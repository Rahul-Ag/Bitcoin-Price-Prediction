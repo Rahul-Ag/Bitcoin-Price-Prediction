{
  "nbformat": 4,
  "nbformat_minor": 0,
  "metadata": {
    "colab": {
      "provenance": [],
      "authorship_tag": "ABX9TyNDEN29hLNFRA+rAYPcBAI0",
      "include_colab_link": true
    },
    "kernelspec": {
      "name": "python3",
      "display_name": "Python 3"
    },
    "language_info": {
      "name": "python"
    }
  },
  "cells": [
    {
      "cell_type": "markdown",
      "metadata": {
        "id": "view-in-github",
        "colab_type": "text"
      },
      "source": [
        "<a href=\"https://colab.research.google.com/github/Rahul-Ag/Bitcoin-Price-Prediction/blob/main/SoC_Bitcoin_Price_Prediction.ipynb\" target=\"_parent\"><img src=\"https://colab.research.google.com/assets/colab-badge.svg\" alt=\"Open In Colab\"/></a>"
      ]
    },
    {
      "cell_type": "markdown",
      "source": [
        "Importing all the useful libraries"
      ],
      "metadata": {
        "id": "xbeH3TbA9EEE"
      }
    },
    {
      "cell_type": "code",
      "execution_count": 1,
      "metadata": {
        "id": "2Wo3HdoFirO0"
      },
      "outputs": [],
      "source": [
        "import numpy as np\n",
        "import matplotlib.pyplot as plt\n",
        "import pandas as pd\n",
        "import seaborn as sns\n",
        "from sklearn.model_selection import train_test_split\n",
        "from sklearn.preprocessing import StandardScaler\n",
        "from sklearn.linear_model import LogisticRegression\n",
        "from sklearn.linear_model import LinearRegression\n",
        "from sklearn.svm import SVC\n",
        "from xgboost import XGBClassifier\n",
        "from sklearn import metrics\n",
        "from sklearn.metrics import classification_report\n",
        "from sklearn.metrics import confusion_matrix\n",
        "from sklearn.metrics import accuracy_score\n",
        "from sklearn.metrics import ConfusionMatrixDisplay\n",
        "from sklearn.tree import DecisionTreeRegressor\n",
        "from sklearn.linear_model import Lasso\n",
        "from sklearn.ensemble import RandomForestRegressor"
      ]
    },
    {
      "cell_type": "markdown",
      "source": [
        "Reading the dataset"
      ],
      "metadata": {
        "id": "FNGi-JuR9INB"
      }
    },
    {
      "cell_type": "code",
      "source": [
        "df = pd.read_csv('Bitcoin Price Data.csv')\n",
        "# Bitcoin Price Data from 17-07-2010 to 30-06-2024\n",
        "df.head()"
      ],
      "metadata": {
        "id": "kGJ-hTOdjp0N",
        "colab": {
          "base_uri": "https://localhost:8080/",
          "height": 206
        },
        "outputId": "231862ca-3f28-4c0e-efb3-cd4fac2e1766"
      },
      "execution_count": 2,
      "outputs": [
        {
          "output_type": "execute_result",
          "data": {
            "text/plain": [
              "         Date    Open    High     Low   Close  Volume   Market Cap\n",
              "0  17-07-2010  0.0500  0.0500  0.0500  0.0500     0.0  170803.1525\n",
              "1  18-07-2010  0.0858  0.0858  0.0858  0.0858     0.0  294746.5950\n",
              "2  19-07-2010  0.0808  0.0808  0.0808  0.0808     0.0  277570.2200\n",
              "3  20-07-2010  0.0747  0.0747  0.0747  0.0747     0.0  256710.1785\n",
              "4  21-07-2010  0.0792  0.0792  0.0792  0.0792     0.0  274308.3750"
            ],
            "text/html": [
              "\n",
              "  <div id=\"df-dc48db60-701d-4210-aba8-ad8075f343c9\" class=\"colab-df-container\">\n",
              "    <div>\n",
              "<style scoped>\n",
              "    .dataframe tbody tr th:only-of-type {\n",
              "        vertical-align: middle;\n",
              "    }\n",
              "\n",
              "    .dataframe tbody tr th {\n",
              "        vertical-align: top;\n",
              "    }\n",
              "\n",
              "    .dataframe thead th {\n",
              "        text-align: right;\n",
              "    }\n",
              "</style>\n",
              "<table border=\"1\" class=\"dataframe\">\n",
              "  <thead>\n",
              "    <tr style=\"text-align: right;\">\n",
              "      <th></th>\n",
              "      <th>Date</th>\n",
              "      <th>Open</th>\n",
              "      <th>High</th>\n",
              "      <th>Low</th>\n",
              "      <th>Close</th>\n",
              "      <th>Volume</th>\n",
              "      <th>Market Cap</th>\n",
              "    </tr>\n",
              "  </thead>\n",
              "  <tbody>\n",
              "    <tr>\n",
              "      <th>0</th>\n",
              "      <td>17-07-2010</td>\n",
              "      <td>0.0500</td>\n",
              "      <td>0.0500</td>\n",
              "      <td>0.0500</td>\n",
              "      <td>0.0500</td>\n",
              "      <td>0.0</td>\n",
              "      <td>170803.1525</td>\n",
              "    </tr>\n",
              "    <tr>\n",
              "      <th>1</th>\n",
              "      <td>18-07-2010</td>\n",
              "      <td>0.0858</td>\n",
              "      <td>0.0858</td>\n",
              "      <td>0.0858</td>\n",
              "      <td>0.0858</td>\n",
              "      <td>0.0</td>\n",
              "      <td>294746.5950</td>\n",
              "    </tr>\n",
              "    <tr>\n",
              "      <th>2</th>\n",
              "      <td>19-07-2010</td>\n",
              "      <td>0.0808</td>\n",
              "      <td>0.0808</td>\n",
              "      <td>0.0808</td>\n",
              "      <td>0.0808</td>\n",
              "      <td>0.0</td>\n",
              "      <td>277570.2200</td>\n",
              "    </tr>\n",
              "    <tr>\n",
              "      <th>3</th>\n",
              "      <td>20-07-2010</td>\n",
              "      <td>0.0747</td>\n",
              "      <td>0.0747</td>\n",
              "      <td>0.0747</td>\n",
              "      <td>0.0747</td>\n",
              "      <td>0.0</td>\n",
              "      <td>256710.1785</td>\n",
              "    </tr>\n",
              "    <tr>\n",
              "      <th>4</th>\n",
              "      <td>21-07-2010</td>\n",
              "      <td>0.0792</td>\n",
              "      <td>0.0792</td>\n",
              "      <td>0.0792</td>\n",
              "      <td>0.0792</td>\n",
              "      <td>0.0</td>\n",
              "      <td>274308.3750</td>\n",
              "    </tr>\n",
              "  </tbody>\n",
              "</table>\n",
              "</div>\n",
              "    <div class=\"colab-df-buttons\">\n",
              "\n",
              "  <div class=\"colab-df-container\">\n",
              "    <button class=\"colab-df-convert\" onclick=\"convertToInteractive('df-dc48db60-701d-4210-aba8-ad8075f343c9')\"\n",
              "            title=\"Convert this dataframe to an interactive table.\"\n",
              "            style=\"display:none;\">\n",
              "\n",
              "  <svg xmlns=\"http://www.w3.org/2000/svg\" height=\"24px\" viewBox=\"0 -960 960 960\">\n",
              "    <path d=\"M120-120v-720h720v720H120Zm60-500h600v-160H180v160Zm220 220h160v-160H400v160Zm0 220h160v-160H400v160ZM180-400h160v-160H180v160Zm440 0h160v-160H620v160ZM180-180h160v-160H180v160Zm440 0h160v-160H620v160Z\"/>\n",
              "  </svg>\n",
              "    </button>\n",
              "\n",
              "  <style>\n",
              "    .colab-df-container {\n",
              "      display:flex;\n",
              "      gap: 12px;\n",
              "    }\n",
              "\n",
              "    .colab-df-convert {\n",
              "      background-color: #E8F0FE;\n",
              "      border: none;\n",
              "      border-radius: 50%;\n",
              "      cursor: pointer;\n",
              "      display: none;\n",
              "      fill: #1967D2;\n",
              "      height: 32px;\n",
              "      padding: 0 0 0 0;\n",
              "      width: 32px;\n",
              "    }\n",
              "\n",
              "    .colab-df-convert:hover {\n",
              "      background-color: #E2EBFA;\n",
              "      box-shadow: 0px 1px 2px rgba(60, 64, 67, 0.3), 0px 1px 3px 1px rgba(60, 64, 67, 0.15);\n",
              "      fill: #174EA6;\n",
              "    }\n",
              "\n",
              "    .colab-df-buttons div {\n",
              "      margin-bottom: 4px;\n",
              "    }\n",
              "\n",
              "    [theme=dark] .colab-df-convert {\n",
              "      background-color: #3B4455;\n",
              "      fill: #D2E3FC;\n",
              "    }\n",
              "\n",
              "    [theme=dark] .colab-df-convert:hover {\n",
              "      background-color: #434B5C;\n",
              "      box-shadow: 0px 1px 3px 1px rgba(0, 0, 0, 0.15);\n",
              "      filter: drop-shadow(0px 1px 2px rgba(0, 0, 0, 0.3));\n",
              "      fill: #FFFFFF;\n",
              "    }\n",
              "  </style>\n",
              "\n",
              "    <script>\n",
              "      const buttonEl =\n",
              "        document.querySelector('#df-dc48db60-701d-4210-aba8-ad8075f343c9 button.colab-df-convert');\n",
              "      buttonEl.style.display =\n",
              "        google.colab.kernel.accessAllowed ? 'block' : 'none';\n",
              "\n",
              "      async function convertToInteractive(key) {\n",
              "        const element = document.querySelector('#df-dc48db60-701d-4210-aba8-ad8075f343c9');\n",
              "        const dataTable =\n",
              "          await google.colab.kernel.invokeFunction('convertToInteractive',\n",
              "                                                    [key], {});\n",
              "        if (!dataTable) return;\n",
              "\n",
              "        const docLinkHtml = 'Like what you see? Visit the ' +\n",
              "          '<a target=\"_blank\" href=https://colab.research.google.com/notebooks/data_table.ipynb>data table notebook</a>'\n",
              "          + ' to learn more about interactive tables.';\n",
              "        element.innerHTML = '';\n",
              "        dataTable['output_type'] = 'display_data';\n",
              "        await google.colab.output.renderOutput(dataTable, element);\n",
              "        const docLink = document.createElement('div');\n",
              "        docLink.innerHTML = docLinkHtml;\n",
              "        element.appendChild(docLink);\n",
              "      }\n",
              "    </script>\n",
              "  </div>\n",
              "\n",
              "\n",
              "<div id=\"df-2ab0f8a8-279c-4093-b8a6-808e0ea8df73\">\n",
              "  <button class=\"colab-df-quickchart\" onclick=\"quickchart('df-2ab0f8a8-279c-4093-b8a6-808e0ea8df73')\"\n",
              "            title=\"Suggest charts\"\n",
              "            style=\"display:none;\">\n",
              "\n",
              "<svg xmlns=\"http://www.w3.org/2000/svg\" height=\"24px\"viewBox=\"0 0 24 24\"\n",
              "     width=\"24px\">\n",
              "    <g>\n",
              "        <path d=\"M19 3H5c-1.1 0-2 .9-2 2v14c0 1.1.9 2 2 2h14c1.1 0 2-.9 2-2V5c0-1.1-.9-2-2-2zM9 17H7v-7h2v7zm4 0h-2V7h2v10zm4 0h-2v-4h2v4z\"/>\n",
              "    </g>\n",
              "</svg>\n",
              "  </button>\n",
              "\n",
              "<style>\n",
              "  .colab-df-quickchart {\n",
              "      --bg-color: #E8F0FE;\n",
              "      --fill-color: #1967D2;\n",
              "      --hover-bg-color: #E2EBFA;\n",
              "      --hover-fill-color: #174EA6;\n",
              "      --disabled-fill-color: #AAA;\n",
              "      --disabled-bg-color: #DDD;\n",
              "  }\n",
              "\n",
              "  [theme=dark] .colab-df-quickchart {\n",
              "      --bg-color: #3B4455;\n",
              "      --fill-color: #D2E3FC;\n",
              "      --hover-bg-color: #434B5C;\n",
              "      --hover-fill-color: #FFFFFF;\n",
              "      --disabled-bg-color: #3B4455;\n",
              "      --disabled-fill-color: #666;\n",
              "  }\n",
              "\n",
              "  .colab-df-quickchart {\n",
              "    background-color: var(--bg-color);\n",
              "    border: none;\n",
              "    border-radius: 50%;\n",
              "    cursor: pointer;\n",
              "    display: none;\n",
              "    fill: var(--fill-color);\n",
              "    height: 32px;\n",
              "    padding: 0;\n",
              "    width: 32px;\n",
              "  }\n",
              "\n",
              "  .colab-df-quickchart:hover {\n",
              "    background-color: var(--hover-bg-color);\n",
              "    box-shadow: 0 1px 2px rgba(60, 64, 67, 0.3), 0 1px 3px 1px rgba(60, 64, 67, 0.15);\n",
              "    fill: var(--button-hover-fill-color);\n",
              "  }\n",
              "\n",
              "  .colab-df-quickchart-complete:disabled,\n",
              "  .colab-df-quickchart-complete:disabled:hover {\n",
              "    background-color: var(--disabled-bg-color);\n",
              "    fill: var(--disabled-fill-color);\n",
              "    box-shadow: none;\n",
              "  }\n",
              "\n",
              "  .colab-df-spinner {\n",
              "    border: 2px solid var(--fill-color);\n",
              "    border-color: transparent;\n",
              "    border-bottom-color: var(--fill-color);\n",
              "    animation:\n",
              "      spin 1s steps(1) infinite;\n",
              "  }\n",
              "\n",
              "  @keyframes spin {\n",
              "    0% {\n",
              "      border-color: transparent;\n",
              "      border-bottom-color: var(--fill-color);\n",
              "      border-left-color: var(--fill-color);\n",
              "    }\n",
              "    20% {\n",
              "      border-color: transparent;\n",
              "      border-left-color: var(--fill-color);\n",
              "      border-top-color: var(--fill-color);\n",
              "    }\n",
              "    30% {\n",
              "      border-color: transparent;\n",
              "      border-left-color: var(--fill-color);\n",
              "      border-top-color: var(--fill-color);\n",
              "      border-right-color: var(--fill-color);\n",
              "    }\n",
              "    40% {\n",
              "      border-color: transparent;\n",
              "      border-right-color: var(--fill-color);\n",
              "      border-top-color: var(--fill-color);\n",
              "    }\n",
              "    60% {\n",
              "      border-color: transparent;\n",
              "      border-right-color: var(--fill-color);\n",
              "    }\n",
              "    80% {\n",
              "      border-color: transparent;\n",
              "      border-right-color: var(--fill-color);\n",
              "      border-bottom-color: var(--fill-color);\n",
              "    }\n",
              "    90% {\n",
              "      border-color: transparent;\n",
              "      border-bottom-color: var(--fill-color);\n",
              "    }\n",
              "  }\n",
              "</style>\n",
              "\n",
              "  <script>\n",
              "    async function quickchart(key) {\n",
              "      const quickchartButtonEl =\n",
              "        document.querySelector('#' + key + ' button');\n",
              "      quickchartButtonEl.disabled = true;  // To prevent multiple clicks.\n",
              "      quickchartButtonEl.classList.add('colab-df-spinner');\n",
              "      try {\n",
              "        const charts = await google.colab.kernel.invokeFunction(\n",
              "            'suggestCharts', [key], {});\n",
              "      } catch (error) {\n",
              "        console.error('Error during call to suggestCharts:', error);\n",
              "      }\n",
              "      quickchartButtonEl.classList.remove('colab-df-spinner');\n",
              "      quickchartButtonEl.classList.add('colab-df-quickchart-complete');\n",
              "    }\n",
              "    (() => {\n",
              "      let quickchartButtonEl =\n",
              "        document.querySelector('#df-2ab0f8a8-279c-4093-b8a6-808e0ea8df73 button');\n",
              "      quickchartButtonEl.style.display =\n",
              "        google.colab.kernel.accessAllowed ? 'block' : 'none';\n",
              "    })();\n",
              "  </script>\n",
              "</div>\n",
              "\n",
              "    </div>\n",
              "  </div>\n"
            ],
            "application/vnd.google.colaboratory.intrinsic+json": {
              "type": "dataframe",
              "variable_name": "df",
              "summary": "{\n  \"name\": \"df\",\n  \"rows\": 5098,\n  \"fields\": [\n    {\n      \"column\": \"Date\",\n      \"properties\": {\n        \"dtype\": \"object\",\n        \"num_unique_values\": 5098,\n        \"samples\": [\n          \"08-04-2013\",\n          \"01-02-2014\",\n          \"11-11-2012\"\n        ],\n        \"semantic_type\": \"\",\n        \"description\": \"\"\n      }\n    },\n    {\n      \"column\": \"Open\",\n      \"properties\": {\n        \"dtype\": \"number\",\n        \"std\": 17458.41652799747,\n        \"min\": 0.05,\n        \"max\": 73082.35,\n        \"num_unique_values\": 4988,\n        \"samples\": [\n          332.906,\n          178.103,\n          235.344\n        ],\n        \"semantic_type\": \"\",\n        \"description\": \"\"\n      }\n    },\n    {\n      \"column\": \"High\",\n      \"properties\": {\n        \"dtype\": \"number\",\n        \"std\": 17850.089618890157,\n        \"min\": 0.05,\n        \"max\": 73628.43,\n        \"num_unique_values\": 4985,\n        \"samples\": [\n          383.026,\n          8398.980741,\n          7.1136\n        ],\n        \"semantic_type\": \"\",\n        \"description\": \"\"\n      }\n    },\n    {\n      \"column\": \"Low\",\n      \"properties\": {\n        \"dtype\": \"number\",\n        \"std\": 17042.824296981835,\n        \"min\": 0.05,\n        \"max\": 71333.36,\n        \"num_unique_values\": 4987,\n        \"samples\": [\n          46459.80561,\n          194.875,\n          238.691\n        ],\n        \"semantic_type\": \"\",\n        \"description\": \"\"\n      }\n    },\n    {\n      \"column\": \"Close\",\n      \"properties\": {\n        \"dtype\": \"number\",\n        \"std\": 17475.037755703903,\n        \"min\": 0.05,\n        \"max\": 73087.95,\n        \"num_unique_values\": 4981,\n        \"samples\": [\n          873.26,\n          18162.12347,\n          129.22\n        ],\n        \"semantic_type\": \"\",\n        \"description\": \"\"\n      }\n    },\n    {\n      \"column\": \"Volume\",\n      \"properties\": {\n        \"dtype\": \"number\",\n        \"std\": 33758464477.63993,\n        \"min\": 0.0,\n        \"max\": 212000000000.0,\n        \"num_unique_values\": 3703,\n        \"samples\": [\n          3774750025.0,\n          59130067822.0,\n          14930223069.0\n        ],\n        \"semantic_type\": \"\",\n        \"description\": \"\"\n      }\n    },\n    {\n      \"column\": \"Market Cap\",\n      \"properties\": {\n        \"dtype\": \"number\",\n        \"std\": 336000753243.8287,\n        \"min\": 170803.1525,\n        \"max\": 1430000000000.0,\n        \"num_unique_values\": 3533,\n        \"samples\": [\n          95117505.14,\n          5755037104.0,\n          9139178953.0\n        ],\n        \"semantic_type\": \"\",\n        \"description\": \"\"\n      }\n    }\n  ]\n}"
            }
          },
          "metadata": {},
          "execution_count": 2
        }
      ]
    },
    {
      "cell_type": "markdown",
      "source": [
        "Information about dataset"
      ],
      "metadata": {
        "id": "QlOjyXd39LRg"
      }
    },
    {
      "cell_type": "code",
      "source": [
        "df.shape"
      ],
      "metadata": {
        "id": "gojxfF0c82_C",
        "colab": {
          "base_uri": "https://localhost:8080/"
        },
        "outputId": "e7f707dd-eb50-41f4-fe3b-0de425c4db23"
      },
      "execution_count": 3,
      "outputs": [
        {
          "output_type": "execute_result",
          "data": {
            "text/plain": [
              "(5098, 7)"
            ]
          },
          "metadata": {},
          "execution_count": 3
        }
      ]
    },
    {
      "cell_type": "code",
      "source": [
        "df.describe()"
      ],
      "metadata": {
        "id": "A5VLdXO185Y1",
        "colab": {
          "base_uri": "https://localhost:8080/",
          "height": 300
        },
        "outputId": "1895420d-cb4f-4adb-92b6-73cf7ad94f67"
      },
      "execution_count": 4,
      "outputs": [
        {
          "output_type": "execute_result",
          "data": {
            "text/plain": [
              "               Open          High           Low         Close        Volume  \\\n",
              "count   5098.000000   5098.000000   5098.000000   5098.000000  5.098000e+03   \n",
              "mean   11860.721853  12132.284238  11575.745177  11874.115216  2.138649e+10   \n",
              "std    17458.416528  17850.089619  17042.824297  17475.037756  3.375846e+10   \n",
              "min        0.050000      0.050000      0.050000      0.050000  0.000000e+00   \n",
              "25%      230.325500    234.723500    227.047250    230.413500  8.495045e+06   \n",
              "50%     2632.300000   2760.530000   2550.205000   2660.920000  1.227131e+09   \n",
              "75%    17129.437935  17497.910010  16877.115105  17121.125195  3.446390e+10   \n",
              "max    73082.350000  73628.430000  71333.360000  73087.950000  2.120000e+11   \n",
              "\n",
              "         Market Cap  \n",
              "count  5.098000e+03  \n",
              "mean   2.235641e+11  \n",
              "std    3.360008e+11  \n",
              "min    1.708032e+05  \n",
              "25%    3.298236e+09  \n",
              "50%    4.348447e+10  \n",
              "75%    3.257500e+11  \n",
              "max    1.430000e+12  "
            ],
            "text/html": [
              "\n",
              "  <div id=\"df-bfe9eefc-f665-4bc2-9979-75cf7a6a8183\" class=\"colab-df-container\">\n",
              "    <div>\n",
              "<style scoped>\n",
              "    .dataframe tbody tr th:only-of-type {\n",
              "        vertical-align: middle;\n",
              "    }\n",
              "\n",
              "    .dataframe tbody tr th {\n",
              "        vertical-align: top;\n",
              "    }\n",
              "\n",
              "    .dataframe thead th {\n",
              "        text-align: right;\n",
              "    }\n",
              "</style>\n",
              "<table border=\"1\" class=\"dataframe\">\n",
              "  <thead>\n",
              "    <tr style=\"text-align: right;\">\n",
              "      <th></th>\n",
              "      <th>Open</th>\n",
              "      <th>High</th>\n",
              "      <th>Low</th>\n",
              "      <th>Close</th>\n",
              "      <th>Volume</th>\n",
              "      <th>Market Cap</th>\n",
              "    </tr>\n",
              "  </thead>\n",
              "  <tbody>\n",
              "    <tr>\n",
              "      <th>count</th>\n",
              "      <td>5098.000000</td>\n",
              "      <td>5098.000000</td>\n",
              "      <td>5098.000000</td>\n",
              "      <td>5098.000000</td>\n",
              "      <td>5.098000e+03</td>\n",
              "      <td>5.098000e+03</td>\n",
              "    </tr>\n",
              "    <tr>\n",
              "      <th>mean</th>\n",
              "      <td>11860.721853</td>\n",
              "      <td>12132.284238</td>\n",
              "      <td>11575.745177</td>\n",
              "      <td>11874.115216</td>\n",
              "      <td>2.138649e+10</td>\n",
              "      <td>2.235641e+11</td>\n",
              "    </tr>\n",
              "    <tr>\n",
              "      <th>std</th>\n",
              "      <td>17458.416528</td>\n",
              "      <td>17850.089619</td>\n",
              "      <td>17042.824297</td>\n",
              "      <td>17475.037756</td>\n",
              "      <td>3.375846e+10</td>\n",
              "      <td>3.360008e+11</td>\n",
              "    </tr>\n",
              "    <tr>\n",
              "      <th>min</th>\n",
              "      <td>0.050000</td>\n",
              "      <td>0.050000</td>\n",
              "      <td>0.050000</td>\n",
              "      <td>0.050000</td>\n",
              "      <td>0.000000e+00</td>\n",
              "      <td>1.708032e+05</td>\n",
              "    </tr>\n",
              "    <tr>\n",
              "      <th>25%</th>\n",
              "      <td>230.325500</td>\n",
              "      <td>234.723500</td>\n",
              "      <td>227.047250</td>\n",
              "      <td>230.413500</td>\n",
              "      <td>8.495045e+06</td>\n",
              "      <td>3.298236e+09</td>\n",
              "    </tr>\n",
              "    <tr>\n",
              "      <th>50%</th>\n",
              "      <td>2632.300000</td>\n",
              "      <td>2760.530000</td>\n",
              "      <td>2550.205000</td>\n",
              "      <td>2660.920000</td>\n",
              "      <td>1.227131e+09</td>\n",
              "      <td>4.348447e+10</td>\n",
              "    </tr>\n",
              "    <tr>\n",
              "      <th>75%</th>\n",
              "      <td>17129.437935</td>\n",
              "      <td>17497.910010</td>\n",
              "      <td>16877.115105</td>\n",
              "      <td>17121.125195</td>\n",
              "      <td>3.446390e+10</td>\n",
              "      <td>3.257500e+11</td>\n",
              "    </tr>\n",
              "    <tr>\n",
              "      <th>max</th>\n",
              "      <td>73082.350000</td>\n",
              "      <td>73628.430000</td>\n",
              "      <td>71333.360000</td>\n",
              "      <td>73087.950000</td>\n",
              "      <td>2.120000e+11</td>\n",
              "      <td>1.430000e+12</td>\n",
              "    </tr>\n",
              "  </tbody>\n",
              "</table>\n",
              "</div>\n",
              "    <div class=\"colab-df-buttons\">\n",
              "\n",
              "  <div class=\"colab-df-container\">\n",
              "    <button class=\"colab-df-convert\" onclick=\"convertToInteractive('df-bfe9eefc-f665-4bc2-9979-75cf7a6a8183')\"\n",
              "            title=\"Convert this dataframe to an interactive table.\"\n",
              "            style=\"display:none;\">\n",
              "\n",
              "  <svg xmlns=\"http://www.w3.org/2000/svg\" height=\"24px\" viewBox=\"0 -960 960 960\">\n",
              "    <path d=\"M120-120v-720h720v720H120Zm60-500h600v-160H180v160Zm220 220h160v-160H400v160Zm0 220h160v-160H400v160ZM180-400h160v-160H180v160Zm440 0h160v-160H620v160ZM180-180h160v-160H180v160Zm440 0h160v-160H620v160Z\"/>\n",
              "  </svg>\n",
              "    </button>\n",
              "\n",
              "  <style>\n",
              "    .colab-df-container {\n",
              "      display:flex;\n",
              "      gap: 12px;\n",
              "    }\n",
              "\n",
              "    .colab-df-convert {\n",
              "      background-color: #E8F0FE;\n",
              "      border: none;\n",
              "      border-radius: 50%;\n",
              "      cursor: pointer;\n",
              "      display: none;\n",
              "      fill: #1967D2;\n",
              "      height: 32px;\n",
              "      padding: 0 0 0 0;\n",
              "      width: 32px;\n",
              "    }\n",
              "\n",
              "    .colab-df-convert:hover {\n",
              "      background-color: #E2EBFA;\n",
              "      box-shadow: 0px 1px 2px rgba(60, 64, 67, 0.3), 0px 1px 3px 1px rgba(60, 64, 67, 0.15);\n",
              "      fill: #174EA6;\n",
              "    }\n",
              "\n",
              "    .colab-df-buttons div {\n",
              "      margin-bottom: 4px;\n",
              "    }\n",
              "\n",
              "    [theme=dark] .colab-df-convert {\n",
              "      background-color: #3B4455;\n",
              "      fill: #D2E3FC;\n",
              "    }\n",
              "\n",
              "    [theme=dark] .colab-df-convert:hover {\n",
              "      background-color: #434B5C;\n",
              "      box-shadow: 0px 1px 3px 1px rgba(0, 0, 0, 0.15);\n",
              "      filter: drop-shadow(0px 1px 2px rgba(0, 0, 0, 0.3));\n",
              "      fill: #FFFFFF;\n",
              "    }\n",
              "  </style>\n",
              "\n",
              "    <script>\n",
              "      const buttonEl =\n",
              "        document.querySelector('#df-bfe9eefc-f665-4bc2-9979-75cf7a6a8183 button.colab-df-convert');\n",
              "      buttonEl.style.display =\n",
              "        google.colab.kernel.accessAllowed ? 'block' : 'none';\n",
              "\n",
              "      async function convertToInteractive(key) {\n",
              "        const element = document.querySelector('#df-bfe9eefc-f665-4bc2-9979-75cf7a6a8183');\n",
              "        const dataTable =\n",
              "          await google.colab.kernel.invokeFunction('convertToInteractive',\n",
              "                                                    [key], {});\n",
              "        if (!dataTable) return;\n",
              "\n",
              "        const docLinkHtml = 'Like what you see? Visit the ' +\n",
              "          '<a target=\"_blank\" href=https://colab.research.google.com/notebooks/data_table.ipynb>data table notebook</a>'\n",
              "          + ' to learn more about interactive tables.';\n",
              "        element.innerHTML = '';\n",
              "        dataTable['output_type'] = 'display_data';\n",
              "        await google.colab.output.renderOutput(dataTable, element);\n",
              "        const docLink = document.createElement('div');\n",
              "        docLink.innerHTML = docLinkHtml;\n",
              "        element.appendChild(docLink);\n",
              "      }\n",
              "    </script>\n",
              "  </div>\n",
              "\n",
              "\n",
              "<div id=\"df-2147c274-bd18-4d79-bfa0-52f909740c3d\">\n",
              "  <button class=\"colab-df-quickchart\" onclick=\"quickchart('df-2147c274-bd18-4d79-bfa0-52f909740c3d')\"\n",
              "            title=\"Suggest charts\"\n",
              "            style=\"display:none;\">\n",
              "\n",
              "<svg xmlns=\"http://www.w3.org/2000/svg\" height=\"24px\"viewBox=\"0 0 24 24\"\n",
              "     width=\"24px\">\n",
              "    <g>\n",
              "        <path d=\"M19 3H5c-1.1 0-2 .9-2 2v14c0 1.1.9 2 2 2h14c1.1 0 2-.9 2-2V5c0-1.1-.9-2-2-2zM9 17H7v-7h2v7zm4 0h-2V7h2v10zm4 0h-2v-4h2v4z\"/>\n",
              "    </g>\n",
              "</svg>\n",
              "  </button>\n",
              "\n",
              "<style>\n",
              "  .colab-df-quickchart {\n",
              "      --bg-color: #E8F0FE;\n",
              "      --fill-color: #1967D2;\n",
              "      --hover-bg-color: #E2EBFA;\n",
              "      --hover-fill-color: #174EA6;\n",
              "      --disabled-fill-color: #AAA;\n",
              "      --disabled-bg-color: #DDD;\n",
              "  }\n",
              "\n",
              "  [theme=dark] .colab-df-quickchart {\n",
              "      --bg-color: #3B4455;\n",
              "      --fill-color: #D2E3FC;\n",
              "      --hover-bg-color: #434B5C;\n",
              "      --hover-fill-color: #FFFFFF;\n",
              "      --disabled-bg-color: #3B4455;\n",
              "      --disabled-fill-color: #666;\n",
              "  }\n",
              "\n",
              "  .colab-df-quickchart {\n",
              "    background-color: var(--bg-color);\n",
              "    border: none;\n",
              "    border-radius: 50%;\n",
              "    cursor: pointer;\n",
              "    display: none;\n",
              "    fill: var(--fill-color);\n",
              "    height: 32px;\n",
              "    padding: 0;\n",
              "    width: 32px;\n",
              "  }\n",
              "\n",
              "  .colab-df-quickchart:hover {\n",
              "    background-color: var(--hover-bg-color);\n",
              "    box-shadow: 0 1px 2px rgba(60, 64, 67, 0.3), 0 1px 3px 1px rgba(60, 64, 67, 0.15);\n",
              "    fill: var(--button-hover-fill-color);\n",
              "  }\n",
              "\n",
              "  .colab-df-quickchart-complete:disabled,\n",
              "  .colab-df-quickchart-complete:disabled:hover {\n",
              "    background-color: var(--disabled-bg-color);\n",
              "    fill: var(--disabled-fill-color);\n",
              "    box-shadow: none;\n",
              "  }\n",
              "\n",
              "  .colab-df-spinner {\n",
              "    border: 2px solid var(--fill-color);\n",
              "    border-color: transparent;\n",
              "    border-bottom-color: var(--fill-color);\n",
              "    animation:\n",
              "      spin 1s steps(1) infinite;\n",
              "  }\n",
              "\n",
              "  @keyframes spin {\n",
              "    0% {\n",
              "      border-color: transparent;\n",
              "      border-bottom-color: var(--fill-color);\n",
              "      border-left-color: var(--fill-color);\n",
              "    }\n",
              "    20% {\n",
              "      border-color: transparent;\n",
              "      border-left-color: var(--fill-color);\n",
              "      border-top-color: var(--fill-color);\n",
              "    }\n",
              "    30% {\n",
              "      border-color: transparent;\n",
              "      border-left-color: var(--fill-color);\n",
              "      border-top-color: var(--fill-color);\n",
              "      border-right-color: var(--fill-color);\n",
              "    }\n",
              "    40% {\n",
              "      border-color: transparent;\n",
              "      border-right-color: var(--fill-color);\n",
              "      border-top-color: var(--fill-color);\n",
              "    }\n",
              "    60% {\n",
              "      border-color: transparent;\n",
              "      border-right-color: var(--fill-color);\n",
              "    }\n",
              "    80% {\n",
              "      border-color: transparent;\n",
              "      border-right-color: var(--fill-color);\n",
              "      border-bottom-color: var(--fill-color);\n",
              "    }\n",
              "    90% {\n",
              "      border-color: transparent;\n",
              "      border-bottom-color: var(--fill-color);\n",
              "    }\n",
              "  }\n",
              "</style>\n",
              "\n",
              "  <script>\n",
              "    async function quickchart(key) {\n",
              "      const quickchartButtonEl =\n",
              "        document.querySelector('#' + key + ' button');\n",
              "      quickchartButtonEl.disabled = true;  // To prevent multiple clicks.\n",
              "      quickchartButtonEl.classList.add('colab-df-spinner');\n",
              "      try {\n",
              "        const charts = await google.colab.kernel.invokeFunction(\n",
              "            'suggestCharts', [key], {});\n",
              "      } catch (error) {\n",
              "        console.error('Error during call to suggestCharts:', error);\n",
              "      }\n",
              "      quickchartButtonEl.classList.remove('colab-df-spinner');\n",
              "      quickchartButtonEl.classList.add('colab-df-quickchart-complete');\n",
              "    }\n",
              "    (() => {\n",
              "      let quickchartButtonEl =\n",
              "        document.querySelector('#df-2147c274-bd18-4d79-bfa0-52f909740c3d button');\n",
              "      quickchartButtonEl.style.display =\n",
              "        google.colab.kernel.accessAllowed ? 'block' : 'none';\n",
              "    })();\n",
              "  </script>\n",
              "</div>\n",
              "\n",
              "    </div>\n",
              "  </div>\n"
            ],
            "application/vnd.google.colaboratory.intrinsic+json": {
              "type": "dataframe",
              "summary": "{\n  \"name\": \"df\",\n  \"rows\": 8,\n  \"fields\": [\n    {\n      \"column\": \"Open\",\n      \"properties\": {\n        \"dtype\": \"number\",\n        \"std\": 24145.773503159548,\n        \"min\": 0.05,\n        \"max\": 73082.35,\n        \"num_unique_values\": 8,\n        \"samples\": [\n          11860.72185262907,\n          2632.3,\n          5098.0\n        ],\n        \"semantic_type\": \"\",\n        \"description\": \"\"\n      }\n    },\n    {\n      \"column\": \"High\",\n      \"properties\": {\n        \"dtype\": \"number\",\n        \"std\": 24319.776322882128,\n        \"min\": 0.05,\n        \"max\": 73628.43,\n        \"num_unique_values\": 8,\n        \"samples\": [\n          12132.28423768164,\n          2760.53,\n          5098.0\n        ],\n        \"semantic_type\": \"\",\n        \"description\": \"\"\n      }\n    },\n    {\n      \"column\": \"Low\",\n      \"properties\": {\n        \"dtype\": \"number\",\n        \"std\": 23562.648816714816,\n        \"min\": 0.05,\n        \"max\": 71333.36,\n        \"num_unique_values\": 8,\n        \"samples\": [\n          11575.74517721322,\n          2550.205,\n          5098.0\n        ],\n        \"semantic_type\": \"\",\n        \"description\": \"\"\n      }\n    },\n    {\n      \"column\": \"Close\",\n      \"properties\": {\n        \"dtype\": \"number\",\n        \"std\": 24145.176845398924,\n        \"min\": 0.05,\n        \"max\": 73087.95,\n        \"num_unique_values\": 8,\n        \"samples\": [\n          11874.115215657122,\n          2660.92,\n          5098.0\n        ],\n        \"semantic_type\": \"\",\n        \"description\": \"\"\n      }\n    },\n    {\n      \"column\": \"Volume\",\n      \"properties\": {\n        \"dtype\": \"number\",\n        \"std\": 71978106116.76892,\n        \"min\": 0.0,\n        \"max\": 212000000000.0,\n        \"num_unique_values\": 8,\n        \"samples\": [\n          21386492404.568558,\n          1227130960.0,\n          5098.0\n        ],\n        \"semantic_type\": \"\",\n        \"description\": \"\"\n      }\n    },\n    {\n      \"column\": \"Market Cap\",\n      \"properties\": {\n        \"dtype\": \"number\",\n        \"std\": 480825783419.89386,\n        \"min\": 5098.0,\n        \"max\": 1430000000000.0,\n        \"num_unique_values\": 8,\n        \"samples\": [\n          223564123024.30154,\n          43484465920.0,\n          5098.0\n        ],\n        \"semantic_type\": \"\",\n        \"description\": \"\"\n      }\n    }\n  ]\n}"
            }
          },
          "metadata": {},
          "execution_count": 4
        }
      ]
    },
    {
      "cell_type": "code",
      "source": [
        "df.info()"
      ],
      "metadata": {
        "id": "q3bR3tIQ88CV",
        "colab": {
          "base_uri": "https://localhost:8080/"
        },
        "outputId": "8935da01-556c-4724-d253-bf974881b39e"
      },
      "execution_count": 5,
      "outputs": [
        {
          "output_type": "stream",
          "name": "stdout",
          "text": [
            "<class 'pandas.core.frame.DataFrame'>\n",
            "RangeIndex: 5098 entries, 0 to 5097\n",
            "Data columns (total 7 columns):\n",
            " #   Column      Non-Null Count  Dtype  \n",
            "---  ------      --------------  -----  \n",
            " 0   Date        5098 non-null   object \n",
            " 1   Open        5098 non-null   float64\n",
            " 2   High        5098 non-null   float64\n",
            " 3   Low         5098 non-null   float64\n",
            " 4   Close       5098 non-null   float64\n",
            " 5   Volume      5098 non-null   float64\n",
            " 6   Market Cap  5098 non-null   float64\n",
            "dtypes: float64(6), object(1)\n",
            "memory usage: 278.9+ KB\n"
          ]
        }
      ]
    },
    {
      "cell_type": "markdown",
      "source": [
        "Plotting the close price of Bitcoin"
      ],
      "metadata": {
        "id": "6NcLPkNy9RXp"
      }
    },
    {
      "cell_type": "code",
      "source": [
        "plt.figure(figsize=(15, 5))\n",
        "plt.plot(df['Close'])\n",
        "plt.title('Bitcoin Close price.', fontsize=15)\n",
        "plt.ylabel('Price in dollars.')\n",
        "plt.show()"
      ],
      "metadata": {
        "id": "QlThfet68-PB",
        "colab": {
          "base_uri": "https://localhost:8080/",
          "height": 461
        },
        "outputId": "a41ae747-00a3-4f0f-8ebe-0489e831b03c"
      },
      "execution_count": 6,
      "outputs": [
        {
          "output_type": "display_data",
          "data": {
            "text/plain": [
              "<Figure size 1500x500 with 1 Axes>"
            ],
            "image/png": "[encoded data removed]"
          },
          "metadata": {}
        }
      ]
    },
    {
      "cell_type": "markdown",
      "source": [
        "Checking for null entries"
      ],
      "metadata": {
        "id": "pZGrkcPl9_GJ"
      }
    },
    {
      "cell_type": "code",
      "source": [
        "df.isnull().sum()"
      ],
      "metadata": {
        "id": "lHLuiaWn96OZ",
        "colab": {
          "base_uri": "https://localhost:8080/",
          "height": 304
        },
        "outputId": "7a0dc34e-5051-4da4-b870-468839a21374"
      },
      "execution_count": 7,
      "outputs": [
        {
          "output_type": "execute_result",
          "data": {
            "text/plain": [
              "Date          0\n",
              "Open          0\n",
              "High          0\n",
              "Low           0\n",
              "Close         0\n",
              "Volume        0\n",
              "Market Cap    0\n",
              "dtype: int64"
            ],
            "text/html": [
              "<table border=\"1\" class=\"dataframe\">\n",
              "  <thead>\n",
              "    <tr style=\"text-align: right;\">\n",
              "      <th></th>\n",
              "      <th>0</th>\n",
              "    </tr>\n",
              "  </thead>\n",
              "  <tbody>\n",
              "    <tr>\n",
              "      <th>Date</th>\n",
              "      <td>0</td>\n",
              "    </tr>\n",
              "    <tr>\n",
              "      <th>Open</th>\n",
              "      <td>0</td>\n",
              "    </tr>\n",
              "    <tr>\n",
              "      <th>High</th>\n",
              "      <td>0</td>\n",
              "    </tr>\n",
              "    <tr>\n",
              "      <th>Low</th>\n",
              "      <td>0</td>\n",
              "    </tr>\n",
              "    <tr>\n",
              "      <th>Close</th>\n",
              "      <td>0</td>\n",
              "    </tr>\n",
              "    <tr>\n",
              "      <th>Volume</th>\n",
              "      <td>0</td>\n",
              "    </tr>\n",
              "    <tr>\n",
              "      <th>Market Cap</th>\n",
              "      <td>0</td>\n",
              "    </tr>\n",
              "  </tbody>\n",
              "</table><br><label><b>dtype:</b> int64</label>"
            ]
          },
          "metadata": {},
          "execution_count": 7
        }
      ]
    },
    {
      "cell_type": "markdown",
      "source": [
        "No Null Entries"
      ],
      "metadata": {
        "id": "8COpEeAjER_x"
      }
    },
    {
      "cell_type": "markdown",
      "source": [
        "Plotting the Open, High, Low and Close Price of Bitcoin"
      ],
      "metadata": {
        "id": "ZcSVLSgV-HBM"
      }
    },
    {
      "cell_type": "code",
      "source": [
        "features = ['Open', 'High', 'Low', 'Close']\n",
        "\n",
        "plt.subplots(figsize=(20,10))\n",
        "for i, col in enumerate(features):\n",
        "  plt.subplot(2,2,i+1)\n",
        "  sns.distplot(df[col])\n",
        "plt.show()"
      ],
      "metadata": {
        "id": "S5V3o5xK-Bto",
        "colab": {
          "base_uri": "https://localhost:8080/",
          "height": 1000
        },
        "outputId": "9a97514d-3e45-4e8b-9d6b-59c383d8a8a2"
      },
      "execution_count": 8,
      "outputs": [
        {
          "output_type": "stream",
          "name": "stderr",
          "text": [
            "<ipython-input-8-6728cd86ff93>:5: MatplotlibDeprecationWarning: Auto-removal of overlapping axes is deprecated since 3.6 and will be removed two minor releases later; explicitly call ax.remove() as needed.\n",
            "  plt.subplot(2,2,i+1)\n",
            "<ipython-input-8-6728cd86ff93>:6: UserWarning: \n",
            "\n",
            "`distplot` is a deprecated function and will be removed in seaborn v0.14.0.\n",
            "\n",
            "Please adapt your code to use either `displot` (a figure-level function with\n",
            "similar flexibility) or `histplot` (an axes-level function for histograms).\n",
            "\n",
            "For a guide to updating your code to use the new functions, please see\n",
            "https://gist.github.com/mwaskom/de44147ed2974457ad6372750bbe5751\n",
            "\n",
            "  sns.distplot(df[col])\n",
            "<ipython-input-8-6728cd86ff93>:6: UserWarning: \n",
            "\n",
            "`distplot` is a deprecated function and will be removed in seaborn v0.14.0.\n",
            "\n",
            "Please adapt your code to use either `displot` (a figure-level function with\n",
            "similar flexibility) or `histplot` (an axes-level function for histograms).\n",
            "\n",
            "For a guide to updating your code to use the new functions, please see\n",
            "https://gist.github.com/mwaskom/de44147ed2974457ad6372750bbe5751\n",
            "\n",
            "  sns.distplot(df[col])\n",
            "<ipython-input-8-6728cd86ff93>:6: UserWarning: \n",
            "\n",
            "`distplot` is a deprecated function and will be removed in seaborn v0.14.0.\n",
            "\n",
            "Please adapt your code to use either `displot` (a figure-level function with\n",
            "similar flexibility) or `histplot` (an axes-level function for histograms).\n",
            "\n",
            "For a guide to updating your code to use the new functions, please see\n",
            "https://gist.github.com/mwaskom/de44147ed2974457ad6372750bbe5751\n",
            "\n",
            "  sns.distplot(df[col])\n",
            "<ipython-input-8-6728cd86ff93>:6: UserWarning: \n",
            "\n",
            "`distplot` is a deprecated function and will be removed in seaborn v0.14.0.\n",
            "\n",
            "Please adapt your code to use either `displot` (a figure-level function with\n",
            "similar flexibility) or `histplot` (an axes-level function for histograms).\n",
            "\n",
            "For a guide to updating your code to use the new functions, please see\n",
            "https://gist.github.com/mwaskom/de44147ed2974457ad6372750bbe5751\n",
            "\n",
            "  sns.distplot(df[col])\n"
          ]
        },
        {
          "output_type": "display_data",
          "data": {
            "text/plain": [
              "<Figure size 2000x1000 with 4 Axes>"
            ],
            "image/png": "[encoded data removed]"
          },
          "metadata": {}
        }
      ]
    },
    {
      "cell_type": "markdown",
      "source": [
        "Box Plot to check for Outliers"
      ],
      "metadata": {
        "id": "Z_MLFLbz-lvK"
      }
    },
    {
      "cell_type": "code",
      "source": [
        "plt.subplots(figsize=(20,10))\n",
        "for i, col in enumerate(features):\n",
        "  plt.subplot(2,2,i+1)\n",
        "  sns.boxplot(df[col])\n",
        "plt.show()"
      ],
      "metadata": {
        "id": "dn370TET-NYw",
        "colab": {
          "base_uri": "https://localhost:8080/",
          "height": 666
        },
        "outputId": "d2caff33-e3c3-48e6-9a6d-16d4b08dd5c2"
      },
      "execution_count": 9,
      "outputs": [
        {
          "output_type": "stream",
          "name": "stderr",
          "text": [
            "<ipython-input-9-e93153832e38>:3: MatplotlibDeprecationWarning: Auto-removal of overlapping axes is deprecated since 3.6 and will be removed two minor releases later; explicitly call ax.remove() as needed.\n",
            "  plt.subplot(2,2,i+1)\n"
          ]
        },
        {
          "output_type": "display_data",
          "data": {
            "text/plain": [
              "<Figure size 2000x1000 with 4 Axes>"
            ],
            "image/png": "[encoded data removed]"
          },
          "metadata": {}
        }
      ]
    },
    {
      "cell_type": "markdown",
      "source": [
        "Splitting date in 3 columns to make it useful"
      ],
      "metadata": {
        "id": "w7NDXyjD-wBa"
      }
    },
    {
      "cell_type": "code",
      "source": [
        "# Convert 'Date' to datetime objects\n",
        "df['Date'] = pd.to_datetime(df['Date'])\n",
        "\n",
        "# Extract day, month, year from 'Date'\n",
        "df['Day'] = df['Date'].dt.day\n",
        "df['Month'] = df['Date'].dt.month\n",
        "df['Year'] = df['Date'].dt.year\n",
        "\n",
        "df.head()"
      ],
      "metadata": {
        "id": "Ffuf2ugD-otP",
        "colab": {
          "base_uri": "https://localhost:8080/",
          "height": 261
        },
        "outputId": "cd644b34-3f3e-487d-ecaf-37b5d0ea3488"
      },
      "execution_count": 10,
      "outputs": [
        {
          "output_type": "stream",
          "name": "stderr",
          "text": [
            "<ipython-input-10-bd4104bf8973>:2: UserWarning: Parsing dates in %d-%m-%Y format when dayfirst=False (the default) was specified. Pass `dayfirst=True` or specify a format to silence this warning.\n",
            "  df['Date'] = pd.to_datetime(df['Date'])\n"
          ]
        },
        {
          "output_type": "execute_result",
          "data": {
            "text/plain": [
              "        Date    Open    High     Low   Close  Volume   Market Cap  Day  Month  \\\n",
              "0 2010-07-17  0.0500  0.0500  0.0500  0.0500     0.0  170803.1525   17      7   \n",
              "1 2010-07-18  0.0858  0.0858  0.0858  0.0858     0.0  294746.5950   18      7   \n",
              "2 2010-07-19  0.0808  0.0808  0.0808  0.0808     0.0  277570.2200   19      7   \n",
              "3 2010-07-20  0.0747  0.0747  0.0747  0.0747     0.0  256710.1785   20      7   \n",
              "4 2010-07-21  0.0792  0.0792  0.0792  0.0792     0.0  274308.3750   21      7   \n",
              "\n",
              "   Year  \n",
              "0  2010  \n",
              "1  2010  \n",
              "2  2010  \n",
              "3  2010  \n",
              "4  2010  "
            ],
            "text/html": [
              "\n",
              "  <div id=\"df-4e70dfa9-5082-4825-b475-16fd2875e7b4\" class=\"colab-df-container\">\n",
              "    <div>\n",
              "<style scoped>\n",
              "    .dataframe tbody tr th:only-of-type {\n",
              "        vertical-align: middle;\n",
              "    }\n",
              "\n",
              "    .dataframe tbody tr th {\n",
              "        vertical-align: top;\n",
              "    }\n",
              "\n",
              "    .dataframe thead th {\n",
              "        text-align: right;\n",
              "    }\n",
              "</style>\n",
              "<table border=\"1\" class=\"dataframe\">\n",
              "  <thead>\n",
              "    <tr style=\"text-align: right;\">\n",
              "      <th></th>\n",
              "      <th>Date</th>\n",
              "      <th>Open</th>\n",
              "      <th>High</th>\n",
              "      <th>Low</th>\n",
              "      <th>Close</th>\n",
              "      <th>Volume</th>\n",
              "      <th>Market Cap</th>\n",
              "      <th>Day</th>\n",
              "      <th>Month</th>\n",
              "      <th>Year</th>\n",
              "    </tr>\n",
              "  </thead>\n",
              "  <tbody>\n",
              "    <tr>\n",
              "      <th>0</th>\n",
              "      <td>2010-07-17</td>\n",
              "      <td>0.0500</td>\n",
              "      <td>0.0500</td>\n",
              "      <td>0.0500</td>\n",
              "      <td>0.0500</td>\n",
              "      <td>0.0</td>\n",
              "      <td>170803.1525</td>\n",
              "      <td>17</td>\n",
              "      <td>7</td>\n",
              "      <td>2010</td>\n",
              "    </tr>\n",
              "    <tr>\n",
              "      <th>1</th>\n",
              "      <td>2010-07-18</td>\n",
              "      <td>0.0858</td>\n",
              "      <td>0.0858</td>\n",
              "      <td>0.0858</td>\n",
              "      <td>0.0858</td>\n",
              "      <td>0.0</td>\n",
              "      <td>294746.5950</td>\n",
              "      <td>18</td>\n",
              "      <td>7</td>\n",
              "      <td>2010</td>\n",
              "    </tr>\n",
              "    <tr>\n",
              "      <th>2</th>\n",
              "      <td>2010-07-19</td>\n",
              "      <td>0.0808</td>\n",
              "      <td>0.0808</td>\n",
              "      <td>0.0808</td>\n",
              "      <td>0.0808</td>\n",
              "      <td>0.0</td>\n",
              "      <td>277570.2200</td>\n",
              "      <td>19</td>\n",
              "      <td>7</td>\n",
              "      <td>2010</td>\n",
              "    </tr>\n",
              "    <tr>\n",
              "      <th>3</th>\n",
              "      <td>2010-07-20</td>\n",
              "      <td>0.0747</td>\n",
              "      <td>0.0747</td>\n",
              "      <td>0.0747</td>\n",
              "      <td>0.0747</td>\n",
              "      <td>0.0</td>\n",
              "      <td>256710.1785</td>\n",
              "      <td>20</td>\n",
              "      <td>7</td>\n",
              "      <td>2010</td>\n",
              "    </tr>\n",
              "    <tr>\n",
              "      <th>4</th>\n",
              "      <td>2010-07-21</td>\n",
              "      <td>0.0792</td>\n",
              "      <td>0.0792</td>\n",
              "      <td>0.0792</td>\n",
              "      <td>0.0792</td>\n",
              "      <td>0.0</td>\n",
              "      <td>274308.3750</td>\n",
              "      <td>21</td>\n",
              "      <td>7</td>\n",
              "      <td>2010</td>\n",
              "    </tr>\n",
              "  </tbody>\n",
              "</table>\n",
              "</div>\n",
              "    <div class=\"colab-df-buttons\">\n",
              "\n",
              "  <div class=\"colab-df-container\">\n",
              "    <button class=\"colab-df-convert\" onclick=\"convertToInteractive('df-4e70dfa9-5082-4825-b475-16fd2875e7b4')\"\n",
              "            title=\"Convert this dataframe to an interactive table.\"\n",
              "            style=\"display:none;\">\n",
              "\n",
              "  <svg xmlns=\"http://www.w3.org/2000/svg\" height=\"24px\" viewBox=\"0 -960 960 960\">\n",
              "    <path d=\"M120-120v-720h720v720H120Zm60-500h600v-160H180v160Zm220 220h160v-160H400v160Zm0 220h160v-160H400v160ZM180-400h160v-160H180v160Zm440 0h160v-160H620v160ZM180-180h160v-160H180v160Zm440 0h160v-160H620v160Z\"/>\n",
              "  </svg>\n",
              "    </button>\n",
              "\n",
              "  <style>\n",
              "    .colab-df-container {\n",
              "      display:flex;\n",
              "      gap: 12px;\n",
              "    }\n",
              "\n",
              "    .colab-df-convert {\n",
              "      background-color: #E8F0FE;\n",
              "      border: none;\n",
              "      border-radius: 50%;\n",
              "      cursor: pointer;\n",
              "      display: none;\n",
              "      fill: #1967D2;\n",
              "      height: 32px;\n",
              "      padding: 0 0 0 0;\n",
              "      width: 32px;\n",
              "    }\n",
              "\n",
              "    .colab-df-convert:hover {\n",
              "      background-color: #E2EBFA;\n",
              "      box-shadow: 0px 1px 2px rgba(60, 64, 67, 0.3), 0px 1px 3px 1px rgba(60, 64, 67, 0.15);\n",
              "      fill: #174EA6;\n",
              "    }\n",
              "\n",
              "    .colab-df-buttons div {\n",
              "      margin-bottom: 4px;\n",
              "    }\n",
              "\n",
              "    [theme=dark] .colab-df-convert {\n",
              "      background-color: #3B4455;\n",
              "      fill: #D2E3FC;\n",
              "    }\n",
              "\n",
              "    [theme=dark] .colab-df-convert:hover {\n",
              "      background-color: #434B5C;\n",
              "      box-shadow: 0px 1px 3px 1px rgba(0, 0, 0, 0.15);\n",
              "      filter: drop-shadow(0px 1px 2px rgba(0, 0, 0, 0.3));\n",
              "      fill: #FFFFFF;\n",
              "    }\n",
              "  </style>\n",
              "\n",
              "    <script>\n",
              "      const buttonEl =\n",
              "        document.querySelector('#df-4e70dfa9-5082-4825-b475-16fd2875e7b4 button.colab-df-convert');\n",
              "      buttonEl.style.display =\n",
              "        google.colab.kernel.accessAllowed ? 'block' : 'none';\n",
              "\n",
              "      async function convertToInteractive(key) {\n",
              "        const element = document.querySelector('#df-4e70dfa9-5082-4825-b475-16fd2875e7b4');\n",
              "        const dataTable =\n",
              "          await google.colab.kernel.invokeFunction('convertToInteractive',\n",
              "                                                    [key], {});\n",
              "        if (!dataTable) return;\n",
              "\n",
              "        const docLinkHtml = 'Like what you see? Visit the ' +\n",
              "          '<a target=\"_blank\" href=https://colab.research.google.com/notebooks/data_table.ipynb>data table notebook</a>'\n",
              "          + ' to learn more about interactive tables.';\n",
              "        element.innerHTML = '';\n",
              "        dataTable['output_type'] = 'display_data';\n",
              "        await google.colab.output.renderOutput(dataTable, element);\n",
              "        const docLink = document.createElement('div');\n",
              "        docLink.innerHTML = docLinkHtml;\n",
              "        element.appendChild(docLink);\n",
              "      }\n",
              "    </script>\n",
              "  </div>\n",
              "\n",
              "\n",
              "<div id=\"df-1fdb07c3-916e-4212-be74-8298d813c776\">\n",
              "  <button class=\"colab-df-quickchart\" onclick=\"quickchart('df-1fdb07c3-916e-4212-be74-8298d813c776')\"\n",
              "            title=\"Suggest charts\"\n",
              "            style=\"display:none;\">\n",
              "\n",
              "<svg xmlns=\"http://www.w3.org/2000/svg\" height=\"24px\"viewBox=\"0 0 24 24\"\n",
              "     width=\"24px\">\n",
              "    <g>\n",
              "        <path d=\"M19 3H5c-1.1 0-2 .9-2 2v14c0 1.1.9 2 2 2h14c1.1 0 2-.9 2-2V5c0-1.1-.9-2-2-2zM9 17H7v-7h2v7zm4 0h-2V7h2v10zm4 0h-2v-4h2v4z\"/>\n",
              "    </g>\n",
              "</svg>\n",
              "  </button>\n",
              "\n",
              "<style>\n",
              "  .colab-df-quickchart {\n",
              "      --bg-color: #E8F0FE;\n",
              "      --fill-color: #1967D2;\n",
              "      --hover-bg-color: #E2EBFA;\n",
              "      --hover-fill-color: #174EA6;\n",
              "      --disabled-fill-color: #AAA;\n",
              "      --disabled-bg-color: #DDD;\n",
              "  }\n",
              "\n",
              "  [theme=dark] .colab-df-quickchart {\n",
              "      --bg-color: #3B4455;\n",
              "      --fill-color: #D2E3FC;\n",
              "      --hover-bg-color: #434B5C;\n",
              "      --hover-fill-color: #FFFFFF;\n",
              "      --disabled-bg-color: #3B4455;\n",
              "      --disabled-fill-color: #666;\n",
              "  }\n",
              "\n",
              "  .colab-df-quickchart {\n",
              "    background-color: var(--bg-color);\n",
              "    border: none;\n",
              "    border-radius: 50%;\n",
              "    cursor: pointer;\n",
              "    display: none;\n",
              "    fill: var(--fill-color);\n",
              "    height: 32px;\n",
              "    padding: 0;\n",
              "    width: 32px;\n",
              "  }\n",
              "\n",
              "  .colab-df-quickchart:hover {\n",
              "    background-color: var(--hover-bg-color);\n",
              "    box-shadow: 0 1px 2px rgba(60, 64, 67, 0.3), 0 1px 3px 1px rgba(60, 64, 67, 0.15);\n",
              "    fill: var(--button-hover-fill-color);\n",
              "  }\n",
              "\n",
              "  .colab-df-quickchart-complete:disabled,\n",
              "  .colab-df-quickchart-complete:disabled:hover {\n",
              "    background-color: var(--disabled-bg-color);\n",
              "    fill: var(--disabled-fill-color);\n",
              "    box-shadow: none;\n",
              "  }\n",
              "\n",
              "  .colab-df-spinner {\n",
              "    border: 2px solid var(--fill-color);\n",
              "    border-color: transparent;\n",
              "    border-bottom-color: var(--fill-color);\n",
              "    animation:\n",
              "      spin 1s steps(1) infinite;\n",
              "  }\n",
              "\n",
              "  @keyframes spin {\n",
              "    0% {\n",
              "      border-color: transparent;\n",
              "      border-bottom-color: var(--fill-color);\n",
              "      border-left-color: var(--fill-color);\n",
              "    }\n",
              "    20% {\n",
              "      border-color: transparent;\n",
              "      border-left-color: var(--fill-color);\n",
              "      border-top-color: var(--fill-color);\n",
              "    }\n",
              "    30% {\n",
              "      border-color: transparent;\n",
              "      border-left-color: var(--fill-color);\n",
              "      border-top-color: var(--fill-color);\n",
              "      border-right-color: var(--fill-color);\n",
              "    }\n",
              "    40% {\n",
              "      border-color: transparent;\n",
              "      border-right-color: var(--fill-color);\n",
              "      border-top-color: var(--fill-color);\n",
              "    }\n",
              "    60% {\n",
              "      border-color: transparent;\n",
              "      border-right-color: var(--fill-color);\n",
              "    }\n",
              "    80% {\n",
              "      border-color: transparent;\n",
              "      border-right-color: var(--fill-color);\n",
              "      border-bottom-color: var(--fill-color);\n",
              "    }\n",
              "    90% {\n",
              "      border-color: transparent;\n",
              "      border-bottom-color: var(--fill-color);\n",
              "    }\n",
              "  }\n",
              "</style>\n",
              "\n",
              "  <script>\n",
              "    async function quickchart(key) {\n",
              "      const quickchartButtonEl =\n",
              "        document.querySelector('#' + key + ' button');\n",
              "      quickchartButtonEl.disabled = true;  // To prevent multiple clicks.\n",
              "      quickchartButtonEl.classList.add('colab-df-spinner');\n",
              "      try {\n",
              "        const charts = await google.colab.kernel.invokeFunction(\n",
              "            'suggestCharts', [key], {});\n",
              "      } catch (error) {\n",
              "        console.error('Error during call to suggestCharts:', error);\n",
              "      }\n",
              "      quickchartButtonEl.classList.remove('colab-df-spinner');\n",
              "      quickchartButtonEl.classList.add('colab-df-quickchart-complete');\n",
              "    }\n",
              "    (() => {\n",
              "      let quickchartButtonEl =\n",
              "        document.querySelector('#df-1fdb07c3-916e-4212-be74-8298d813c776 button');\n",
              "      quickchartButtonEl.style.display =\n",
              "        google.colab.kernel.accessAllowed ? 'block' : 'none';\n",
              "    })();\n",
              "  </script>\n",
              "</div>\n",
              "\n",
              "    </div>\n",
              "  </div>\n"
            ],
            "application/vnd.google.colaboratory.intrinsic+json": {
              "type": "dataframe",
              "variable_name": "df",
              "summary": "{\n  \"name\": \"df\",\n  \"rows\": 5098,\n  \"fields\": [\n    {\n      \"column\": \"Date\",\n      \"properties\": {\n        \"dtype\": \"date\",\n        \"min\": \"2010-07-17 00:00:00\",\n        \"max\": \"2024-06-30 00:00:00\",\n        \"num_unique_values\": 5098,\n        \"samples\": [\n          \"2013-04-08 00:00:00\",\n          \"2014-02-01 00:00:00\",\n          \"2012-11-11 00:00:00\"\n        ],\n        \"semantic_type\": \"\",\n        \"description\": \"\"\n      }\n    },\n    {\n      \"column\": \"Open\",\n      \"properties\": {\n        \"dtype\": \"number\",\n        \"std\": 17458.41652799747,\n        \"min\": 0.05,\n        \"max\": 73082.35,\n        \"num_unique_values\": 4988,\n        \"samples\": [\n          332.906,\n          178.103,\n          235.344\n        ],\n        \"semantic_type\": \"\",\n        \"description\": \"\"\n      }\n    },\n    {\n      \"column\": \"High\",\n      \"properties\": {\n        \"dtype\": \"number\",\n        \"std\": 17850.089618890157,\n        \"min\": 0.05,\n        \"max\": 73628.43,\n        \"num_unique_values\": 4985,\n        \"samples\": [\n          383.026,\n          8398.980741,\n          7.1136\n        ],\n        \"semantic_type\": \"\",\n        \"description\": \"\"\n      }\n    },\n    {\n      \"column\": \"Low\",\n      \"properties\": {\n        \"dtype\": \"number\",\n        \"std\": 17042.824296981835,\n        \"min\": 0.05,\n        \"max\": 71333.36,\n        \"num_unique_values\": 4987,\n        \"samples\": [\n          46459.80561,\n          194.875,\n          238.691\n        ],\n        \"semantic_type\": \"\",\n        \"description\": \"\"\n      }\n    },\n    {\n      \"column\": \"Close\",\n      \"properties\": {\n        \"dtype\": \"number\",\n        \"std\": 17475.037755703903,\n        \"min\": 0.05,\n        \"max\": 73087.95,\n        \"num_unique_values\": 4981,\n        \"samples\": [\n          873.26,\n          18162.12347,\n          129.22\n        ],\n        \"semantic_type\": \"\",\n        \"description\": \"\"\n      }\n    },\n    {\n      \"column\": \"Volume\",\n      \"properties\": {\n        \"dtype\": \"number\",\n        \"std\": 33758464477.63993,\n        \"min\": 0.0,\n        \"max\": 212000000000.0,\n        \"num_unique_values\": 3703,\n        \"samples\": [\n          3774750025.0,\n          59130067822.0,\n          14930223069.0\n        ],\n        \"semantic_type\": \"\",\n        \"description\": \"\"\n      }\n    },\n    {\n      \"column\": \"Market Cap\",\n      \"properties\": {\n        \"dtype\": \"number\",\n        \"std\": 336000753243.8287,\n        \"min\": 170803.1525,\n        \"max\": 1430000000000.0,\n        \"num_unique_values\": 3533,\n        \"samples\": [\n          95117505.14,\n          5755037104.0,\n          9139178953.0\n        ],\n        \"semantic_type\": \"\",\n        \"description\": \"\"\n      }\n    },\n    {\n      \"column\": \"Day\",\n      \"properties\": {\n        \"dtype\": \"int32\",\n        \"num_unique_values\": 31,\n        \"samples\": [\n          13,\n          1,\n          9\n        ],\n        \"semantic_type\": \"\",\n        \"description\": \"\"\n      }\n    },\n    {\n      \"column\": \"Month\",\n      \"properties\": {\n        \"dtype\": \"int32\",\n        \"num_unique_values\": 12,\n        \"samples\": [\n          5,\n          4,\n          7\n        ],\n        \"semantic_type\": \"\",\n        \"description\": \"\"\n      }\n    },\n    {\n      \"column\": \"Year\",\n      \"properties\": {\n        \"dtype\": \"int32\",\n        \"num_unique_values\": 15,\n        \"samples\": [\n          2019,\n          2021,\n          2010\n        ],\n        \"semantic_type\": \"\",\n        \"description\": \"\"\n      }\n    }\n  ]\n}"
            }
          },
          "metadata": {},
          "execution_count": 10
        }
      ]
    },
    {
      "cell_type": "code",
      "source": [
        "# Extract year\n",
        "df['Year'] = df['Date'].dt.year\n",
        "\n",
        "# Group by year and calculate the mean\n",
        "data_grouped = df.groupby('Year').mean()\n",
        "\n",
        "# Plotting\n",
        "plt.subplots(figsize=(20,10))\n",
        "for i, col in enumerate(['Open', 'High', 'Low', 'Close']):\n",
        "  plt.subplot(2,2,i+1)\n",
        "  data_grouped[col].plot.bar()\n",
        "plt.show()"
      ],
      "metadata": {
        "id": "h9Ln14KQ-z55",
        "colab": {
          "base_uri": "https://localhost:8080/",
          "height": 719
        },
        "outputId": "e252b8a1-9c26-49d2-b2ed-b9390b1bb27c"
      },
      "execution_count": 11,
      "outputs": [
        {
          "output_type": "stream",
          "name": "stderr",
          "text": [
            "<ipython-input-11-fb30b9f56fbe>:10: MatplotlibDeprecationWarning: Auto-removal of overlapping axes is deprecated since 3.6 and will be removed two minor releases later; explicitly call ax.remove() as needed.\n",
            "  plt.subplot(2,2,i+1)\n"
          ]
        },
        {
          "output_type": "display_data",
          "data": {
            "text/plain": [
              "<Figure size 2000x1000 with 4 Axes>"
            ],
            "image/png": "[encoded data removed]"
          },
          "metadata": {}
        }
      ]
    },
    {
      "cell_type": "markdown",
      "source": [
        "The price of bitcoin skyrocketed more than usual in 2021 and 2024, which resulted in so many outliers"
      ],
      "metadata": {
        "id": "miPN6HJH-94J"
      }
    },
    {
      "cell_type": "markdown",
      "source": [
        "Gathering some more useful information"
      ],
      "metadata": {
        "id": "NpN5yI6m_QeL"
      }
    },
    {
      "cell_type": "code",
      "source": [
        "df['is_quarter_end'] = np.where(df['Month']%3==0,1,0)\n",
        "df.head()"
      ],
      "metadata": {
        "id": "HOevExbm-7mN",
        "colab": {
          "base_uri": "https://localhost:8080/",
          "height": 206
        },
        "outputId": "785335d9-c7f5-4f01-9f6c-923cba4e1b28"
      },
      "execution_count": 12,
      "outputs": [
        {
          "output_type": "execute_result",
          "data": {
            "text/plain": [
              "        Date    Open    High     Low   Close  Volume   Market Cap  Day  Month  \\\n",
              "0 2010-07-17  0.0500  0.0500  0.0500  0.0500     0.0  170803.1525   17      7   \n",
              "1 2010-07-18  0.0858  0.0858  0.0858  0.0858     0.0  294746.5950   18      7   \n",
              "2 2010-07-19  0.0808  0.0808  0.0808  0.0808     0.0  277570.2200   19      7   \n",
              "3 2010-07-20  0.0747  0.0747  0.0747  0.0747     0.0  256710.1785   20      7   \n",
              "4 2010-07-21  0.0792  0.0792  0.0792  0.0792     0.0  274308.3750   21      7   \n",
              "\n",
              "   Year  is_quarter_end  \n",
              "0  2010               0  \n",
              "1  2010               0  \n",
              "2  2010               0  \n",
              "3  2010               0  \n",
              "4  2010               0  "
            ],
            "text/html": [
              "\n",
              "  <div id=\"df-4c8236b3-6664-478d-90c3-9cbf5268d385\" class=\"colab-df-container\">\n",
              "    <div>\n",
              "<style scoped>\n",
              "    .dataframe tbody tr th:only-of-type {\n",
              "        vertical-align: middle;\n",
              "    }\n",
              "\n",
              "    .dataframe tbody tr th {\n",
              "        vertical-align: top;\n",
              "    }\n",
              "\n",
              "    .dataframe thead th {\n",
              "        text-align: right;\n",
              "    }\n",
              "</style>\n",
              "<table border=\"1\" class=\"dataframe\">\n",
              "  <thead>\n",
              "    <tr style=\"text-align: right;\">\n",
              "      <th></th>\n",
              "      <th>Date</th>\n",
              "      <th>Open</th>\n",
              "      <th>High</th>\n",
              "      <th>Low</th>\n",
              "      <th>Close</th>\n",
              "      <th>Volume</th>\n",
              "      <th>Market Cap</th>\n",
              "      <th>Day</th>\n",
              "      <th>Month</th>\n",
              "      <th>Year</th>\n",
              "      <th>is_quarter_end</th>\n",
              "    </tr>\n",
              "  </thead>\n",
              "  <tbody>\n",
              "    <tr>\n",
              "      <th>0</th>\n",
              "      <td>2010-07-17</td>\n",
              "      <td>0.0500</td>\n",
              "      <td>0.0500</td>\n",
              "      <td>0.0500</td>\n",
              "      <td>0.0500</td>\n",
              "      <td>0.0</td>\n",
              "      <td>170803.1525</td>\n",
              "      <td>17</td>\n",
              "      <td>7</td>\n",
              "      <td>2010</td>\n",
              "      <td>0</td>\n",
              "    </tr>\n",
              "    <tr>\n",
              "      <th>1</th>\n",
              "      <td>2010-07-18</td>\n",
              "      <td>0.0858</td>\n",
              "      <td>0.0858</td>\n",
              "      <td>0.0858</td>\n",
              "      <td>0.0858</td>\n",
              "      <td>0.0</td>\n",
              "      <td>294746.5950</td>\n",
              "      <td>18</td>\n",
              "      <td>7</td>\n",
              "      <td>2010</td>\n",
              "      <td>0</td>\n",
              "    </tr>\n",
              "    <tr>\n",
              "      <th>2</th>\n",
              "      <td>2010-07-19</td>\n",
              "      <td>0.0808</td>\n",
              "      <td>0.0808</td>\n",
              "      <td>0.0808</td>\n",
              "      <td>0.0808</td>\n",
              "      <td>0.0</td>\n",
              "      <td>277570.2200</td>\n",
              "      <td>19</td>\n",
              "      <td>7</td>\n",
              "      <td>2010</td>\n",
              "      <td>0</td>\n",
              "    </tr>\n",
              "    <tr>\n",
              "      <th>3</th>\n",
              "      <td>2010-07-20</td>\n",
              "      <td>0.0747</td>\n",
              "      <td>0.0747</td>\n",
              "      <td>0.0747</td>\n",
              "      <td>0.0747</td>\n",
              "      <td>0.0</td>\n",
              "      <td>256710.1785</td>\n",
              "      <td>20</td>\n",
              "      <td>7</td>\n",
              "      <td>2010</td>\n",
              "      <td>0</td>\n",
              "    </tr>\n",
              "    <tr>\n",
              "      <th>4</th>\n",
              "      <td>2010-07-21</td>\n",
              "      <td>0.0792</td>\n",
              "      <td>0.0792</td>\n",
              "      <td>0.0792</td>\n",
              "      <td>0.0792</td>\n",
              "      <td>0.0</td>\n",
              "      <td>274308.3750</td>\n",
              "      <td>21</td>\n",
              "      <td>7</td>\n",
              "      <td>2010</td>\n",
              "      <td>0</td>\n",
              "    </tr>\n",
              "  </tbody>\n",
              "</table>\n",
              "</div>\n",
              "    <div class=\"colab-df-buttons\">\n",
              "\n",
              "  <div class=\"colab-df-container\">\n",
              "    <button class=\"colab-df-convert\" onclick=\"convertToInteractive('df-4c8236b3-6664-478d-90c3-9cbf5268d385')\"\n",
              "            title=\"Convert this dataframe to an interactive table.\"\n",
              "            style=\"display:none;\">\n",
              "\n",
              "  <svg xmlns=\"http://www.w3.org/2000/svg\" height=\"24px\" viewBox=\"0 -960 960 960\">\n",
              "    <path d=\"M120-120v-720h720v720H120Zm60-500h600v-160H180v160Zm220 220h160v-160H400v160Zm0 220h160v-160H400v160ZM180-400h160v-160H180v160Zm440 0h160v-160H620v160ZM180-180h160v-160H180v160Zm440 0h160v-160H620v160Z\"/>\n",
              "  </svg>\n",
              "    </button>\n",
              "\n",
              "  <style>\n",
              "    .colab-df-container {\n",
              "      display:flex;\n",
              "      gap: 12px;\n",
              "    }\n",
              "\n",
              "    .colab-df-convert {\n",
              "      background-color: #E8F0FE;\n",
              "      border: none;\n",
              "      border-radius: 50%;\n",
              "      cursor: pointer;\n",
              "      display: none;\n",
              "      fill: #1967D2;\n",
              "      height: 32px;\n",
              "      padding: 0 0 0 0;\n",
              "      width: 32px;\n",
              "    }\n",
              "\n",
              "    .colab-df-convert:hover {\n",
              "      background-color: #E2EBFA;\n",
              "      box-shadow: 0px 1px 2px rgba(60, 64, 67, 0.3), 0px 1px 3px 1px rgba(60, 64, 67, 0.15);\n",
              "      fill: #174EA6;\n",
              "    }\n",
              "\n",
              "    .colab-df-buttons div {\n",
              "      margin-bottom: 4px;\n",
              "    }\n",
              "\n",
              "    [theme=dark] .colab-df-convert {\n",
              "      background-color: #3B4455;\n",
              "      fill: #D2E3FC;\n",
              "    }\n",
              "\n",
              "    [theme=dark] .colab-df-convert:hover {\n",
              "      background-color: #434B5C;\n",
              "      box-shadow: 0px 1px 3px 1px rgba(0, 0, 0, 0.15);\n",
              "      filter: drop-shadow(0px 1px 2px rgba(0, 0, 0, 0.3));\n",
              "      fill: #FFFFFF;\n",
              "    }\n",
              "  </style>\n",
              "\n",
              "    <script>\n",
              "      const buttonEl =\n",
              "        document.querySelector('#df-4c8236b3-6664-478d-90c3-9cbf5268d385 button.colab-df-convert');\n",
              "      buttonEl.style.display =\n",
              "        google.colab.kernel.accessAllowed ? 'block' : 'none';\n",
              "\n",
              "      async function convertToInteractive(key) {\n",
              "        const element = document.querySelector('#df-4c8236b3-6664-478d-90c3-9cbf5268d385');\n",
              "        const dataTable =\n",
              "          await google.colab.kernel.invokeFunction('convertToInteractive',\n",
              "                                                    [key], {});\n",
              "        if (!dataTable) return;\n",
              "\n",
              "        const docLinkHtml = 'Like what you see? Visit the ' +\n",
              "          '<a target=\"_blank\" href=https://colab.research.google.com/notebooks/data_table.ipynb>data table notebook</a>'\n",
              "          + ' to learn more about interactive tables.';\n",
              "        element.innerHTML = '';\n",
              "        dataTable['output_type'] = 'display_data';\n",
              "        await google.colab.output.renderOutput(dataTable, element);\n",
              "        const docLink = document.createElement('div');\n",
              "        docLink.innerHTML = docLinkHtml;\n",
              "        element.appendChild(docLink);\n",
              "      }\n",
              "    </script>\n",
              "  </div>\n",
              "\n",
              "\n",
              "<div id=\"df-c685ecf0-b7cc-4c49-a483-a8425ec4fdfc\">\n",
              "  <button class=\"colab-df-quickchart\" onclick=\"quickchart('df-c685ecf0-b7cc-4c49-a483-a8425ec4fdfc')\"\n",
              "            title=\"Suggest charts\"\n",
              "            style=\"display:none;\">\n",
              "\n",
              "<svg xmlns=\"http://www.w3.org/2000/svg\" height=\"24px\"viewBox=\"0 0 24 24\"\n",
              "     width=\"24px\">\n",
              "    <g>\n",
              "        <path d=\"M19 3H5c-1.1 0-2 .9-2 2v14c0 1.1.9 2 2 2h14c1.1 0 2-.9 2-2V5c0-1.1-.9-2-2-2zM9 17H7v-7h2v7zm4 0h-2V7h2v10zm4 0h-2v-4h2v4z\"/>\n",
              "    </g>\n",
              "</svg>\n",
              "  </button>\n",
              "\n",
              "<style>\n",
              "  .colab-df-quickchart {\n",
              "      --bg-color: #E8F0FE;\n",
              "      --fill-color: #1967D2;\n",
              "      --hover-bg-color: #E2EBFA;\n",
              "      --hover-fill-color: #174EA6;\n",
              "      --disabled-fill-color: #AAA;\n",
              "      --disabled-bg-color: #DDD;\n",
              "  }\n",
              "\n",
              "  [theme=dark] .colab-df-quickchart {\n",
              "      --bg-color: #3B4455;\n",
              "      --fill-color: #D2E3FC;\n",
              "      --hover-bg-color: #434B5C;\n",
              "      --hover-fill-color: #FFFFFF;\n",
              "      --disabled-bg-color: #3B4455;\n",
              "      --disabled-fill-color: #666;\n",
              "  }\n",
              "\n",
              "  .colab-df-quickchart {\n",
              "    background-color: var(--bg-color);\n",
              "    border: none;\n",
              "    border-radius: 50%;\n",
              "    cursor: pointer;\n",
              "    display: none;\n",
              "    fill: var(--fill-color);\n",
              "    height: 32px;\n",
              "    padding: 0;\n",
              "    width: 32px;\n",
              "  }\n",
              "\n",
              "  .colab-df-quickchart:hover {\n",
              "    background-color: var(--hover-bg-color);\n",
              "    box-shadow: 0 1px 2px rgba(60, 64, 67, 0.3), 0 1px 3px 1px rgba(60, 64, 67, 0.15);\n",
              "    fill: var(--button-hover-fill-color);\n",
              "  }\n",
              "\n",
              "  .colab-df-quickchart-complete:disabled,\n",
              "  .colab-df-quickchart-complete:disabled:hover {\n",
              "    background-color: var(--disabled-bg-color);\n",
              "    fill: var(--disabled-fill-color);\n",
              "    box-shadow: none;\n",
              "  }\n",
              "\n",
              "  .colab-df-spinner {\n",
              "    border: 2px solid var(--fill-color);\n",
              "    border-color: transparent;\n",
              "    border-bottom-color: var(--fill-color);\n",
              "    animation:\n",
              "      spin 1s steps(1) infinite;\n",
              "  }\n",
              "\n",
              "  @keyframes spin {\n",
              "    0% {\n",
              "      border-color: transparent;\n",
              "      border-bottom-color: var(--fill-color);\n",
              "      border-left-color: var(--fill-color);\n",
              "    }\n",
              "    20% {\n",
              "      border-color: transparent;\n",
              "      border-left-color: var(--fill-color);\n",
              "      border-top-color: var(--fill-color);\n",
              "    }\n",
              "    30% {\n",
              "      border-color: transparent;\n",
              "      border-left-color: var(--fill-color);\n",
              "      border-top-color: var(--fill-color);\n",
              "      border-right-color: var(--fill-color);\n",
              "    }\n",
              "    40% {\n",
              "      border-color: transparent;\n",
              "      border-right-color: var(--fill-color);\n",
              "      border-top-color: var(--fill-color);\n",
              "    }\n",
              "    60% {\n",
              "      border-color: transparent;\n",
              "      border-right-color: var(--fill-color);\n",
              "    }\n",
              "    80% {\n",
              "      border-color: transparent;\n",
              "      border-right-color: var(--fill-color);\n",
              "      border-bottom-color: var(--fill-color);\n",
              "    }\n",
              "    90% {\n",
              "      border-color: transparent;\n",
              "      border-bottom-color: var(--fill-color);\n",
              "    }\n",
              "  }\n",
              "</style>\n",
              "\n",
              "  <script>\n",
              "    async function quickchart(key) {\n",
              "      const quickchartButtonEl =\n",
              "        document.querySelector('#' + key + ' button');\n",
              "      quickchartButtonEl.disabled = true;  // To prevent multiple clicks.\n",
              "      quickchartButtonEl.classList.add('colab-df-spinner');\n",
              "      try {\n",
              "        const charts = await google.colab.kernel.invokeFunction(\n",
              "            'suggestCharts', [key], {});\n",
              "      } catch (error) {\n",
              "        console.error('Error during call to suggestCharts:', error);\n",
              "      }\n",
              "      quickchartButtonEl.classList.remove('colab-df-spinner');\n",
              "      quickchartButtonEl.classList.add('colab-df-quickchart-complete');\n",
              "    }\n",
              "    (() => {\n",
              "      let quickchartButtonEl =\n",
              "        document.querySelector('#df-c685ecf0-b7cc-4c49-a483-a8425ec4fdfc button');\n",
              "      quickchartButtonEl.style.display =\n",
              "        google.colab.kernel.accessAllowed ? 'block' : 'none';\n",
              "    })();\n",
              "  </script>\n",
              "</div>\n",
              "\n",
              "    </div>\n",
              "  </div>\n"
            ],
            "application/vnd.google.colaboratory.intrinsic+json": {
              "type": "dataframe",
              "variable_name": "df",
              "summary": "{\n  \"name\": \"df\",\n  \"rows\": 5098,\n  \"fields\": [\n    {\n      \"column\": \"Date\",\n      \"properties\": {\n        \"dtype\": \"date\",\n        \"min\": \"2010-07-17 00:00:00\",\n        \"max\": \"2024-06-30 00:00:00\",\n        \"num_unique_values\": 5098,\n        \"samples\": [\n          \"2013-04-08 00:00:00\",\n          \"2014-02-01 00:00:00\",\n          \"2012-11-11 00:00:00\"\n        ],\n        \"semantic_type\": \"\",\n        \"description\": \"\"\n      }\n    },\n    {\n      \"column\": \"Open\",\n      \"properties\": {\n        \"dtype\": \"number\",\n        \"std\": 17458.41652799747,\n        \"min\": 0.05,\n        \"max\": 73082.35,\n        \"num_unique_values\": 4988,\n        \"samples\": [\n          332.906,\n          178.103,\n          235.344\n        ],\n        \"semantic_type\": \"\",\n        \"description\": \"\"\n      }\n    },\n    {\n      \"column\": \"High\",\n      \"properties\": {\n        \"dtype\": \"number\",\n        \"std\": 17850.089618890157,\n        \"min\": 0.05,\n        \"max\": 73628.43,\n        \"num_unique_values\": 4985,\n        \"samples\": [\n          383.026,\n          8398.980741,\n          7.1136\n        ],\n        \"semantic_type\": \"\",\n        \"description\": \"\"\n      }\n    },\n    {\n      \"column\": \"Low\",\n      \"properties\": {\n        \"dtype\": \"number\",\n        \"std\": 17042.824296981835,\n        \"min\": 0.05,\n        \"max\": 71333.36,\n        \"num_unique_values\": 4987,\n        \"samples\": [\n          46459.80561,\n          194.875,\n          238.691\n        ],\n        \"semantic_type\": \"\",\n        \"description\": \"\"\n      }\n    },\n    {\n      \"column\": \"Close\",\n      \"properties\": {\n        \"dtype\": \"number\",\n        \"std\": 17475.037755703903,\n        \"min\": 0.05,\n        \"max\": 73087.95,\n        \"num_unique_values\": 4981,\n        \"samples\": [\n          873.26,\n          18162.12347,\n          129.22\n        ],\n        \"semantic_type\": \"\",\n        \"description\": \"\"\n      }\n    },\n    {\n      \"column\": \"Volume\",\n      \"properties\": {\n        \"dtype\": \"number\",\n        \"std\": 33758464477.63993,\n        \"min\": 0.0,\n        \"max\": 212000000000.0,\n        \"num_unique_values\": 3703,\n        \"samples\": [\n          3774750025.0,\n          59130067822.0,\n          14930223069.0\n        ],\n        \"semantic_type\": \"\",\n        \"description\": \"\"\n      }\n    },\n    {\n      \"column\": \"Market Cap\",\n      \"properties\": {\n        \"dtype\": \"number\",\n        \"std\": 336000753243.8287,\n        \"min\": 170803.1525,\n        \"max\": 1430000000000.0,\n        \"num_unique_values\": 3533,\n        \"samples\": [\n          95117505.14,\n          5755037104.0,\n          9139178953.0\n        ],\n        \"semantic_type\": \"\",\n        \"description\": \"\"\n      }\n    },\n    {\n      \"column\": \"Day\",\n      \"properties\": {\n        \"dtype\": \"int32\",\n        \"num_unique_values\": 31,\n        \"samples\": [\n          13,\n          1,\n          9\n        ],\n        \"semantic_type\": \"\",\n        \"description\": \"\"\n      }\n    },\n    {\n      \"column\": \"Month\",\n      \"properties\": {\n        \"dtype\": \"int32\",\n        \"num_unique_values\": 12,\n        \"samples\": [\n          5,\n          4,\n          7\n        ],\n        \"semantic_type\": \"\",\n        \"description\": \"\"\n      }\n    },\n    {\n      \"column\": \"Year\",\n      \"properties\": {\n        \"dtype\": \"int32\",\n        \"num_unique_values\": 15,\n        \"samples\": [\n          2019,\n          2021,\n          2010\n        ],\n        \"semantic_type\": \"\",\n        \"description\": \"\"\n      }\n    },\n    {\n      \"column\": \"is_quarter_end\",\n      \"properties\": {\n        \"dtype\": \"number\",\n        \"std\": 0,\n        \"min\": 0,\n        \"max\": 1,\n        \"num_unique_values\": 2,\n        \"samples\": [\n          1,\n          0\n        ],\n        \"semantic_type\": \"\",\n        \"description\": \"\"\n      }\n    }\n  ]\n}"
            }
          },
          "metadata": {},
          "execution_count": 12
        }
      ]
    },
    {
      "cell_type": "code",
      "source": [
        "df['open-close'] = df['Open'] - df['Close']\n",
        "df['low-high'] = df['Low'] - df['High']\n",
        "\n",
        "df.head()"
      ],
      "metadata": {
        "id": "b36MK4PI_L-V",
        "colab": {
          "base_uri": "https://localhost:8080/",
          "height": 206
        },
        "outputId": "b233f07c-4907-444b-e9f0-4c998b9e4425"
      },
      "execution_count": 13,
      "outputs": [
        {
          "output_type": "execute_result",
          "data": {
            "text/plain": [
              "        Date    Open    High     Low   Close  Volume   Market Cap  Day  Month  \\\n",
              "0 2010-07-17  0.0500  0.0500  0.0500  0.0500     0.0  170803.1525   17      7   \n",
              "1 2010-07-18  0.0858  0.0858  0.0858  0.0858     0.0  294746.5950   18      7   \n",
              "2 2010-07-19  0.0808  0.0808  0.0808  0.0808     0.0  277570.2200   19      7   \n",
              "3 2010-07-20  0.0747  0.0747  0.0747  0.0747     0.0  256710.1785   20      7   \n",
              "4 2010-07-21  0.0792  0.0792  0.0792  0.0792     0.0  274308.3750   21      7   \n",
              "\n",
              "   Year  is_quarter_end  open-close  low-high  \n",
              "0  2010               0         0.0       0.0  \n",
              "1  2010               0         0.0       0.0  \n",
              "2  2010               0         0.0       0.0  \n",
              "3  2010               0         0.0       0.0  \n",
              "4  2010               0         0.0       0.0  "
            ],
            "text/html": [
              "\n",
              "  <div id=\"df-cf5e9906-95b2-40d5-ba88-d567f29f69e6\" class=\"colab-df-container\">\n",
              "    <div>\n",
              "<style scoped>\n",
              "    .dataframe tbody tr th:only-of-type {\n",
              "        vertical-align: middle;\n",
              "    }\n",
              "\n",
              "    .dataframe tbody tr th {\n",
              "        vertical-align: top;\n",
              "    }\n",
              "\n",
              "    .dataframe thead th {\n",
              "        text-align: right;\n",
              "    }\n",
              "</style>\n",
              "<table border=\"1\" class=\"dataframe\">\n",
              "  <thead>\n",
              "    <tr style=\"text-align: right;\">\n",
              "      <th></th>\n",
              "      <th>Date</th>\n",
              "      <th>Open</th>\n",
              "      <th>High</th>\n",
              "      <th>Low</th>\n",
              "      <th>Close</th>\n",
              "      <th>Volume</th>\n",
              "      <th>Market Cap</th>\n",
              "      <th>Day</th>\n",
              "      <th>Month</th>\n",
              "      <th>Year</th>\n",
              "      <th>is_quarter_end</th>\n",
              "      <th>open-close</th>\n",
              "      <th>low-high</th>\n",
              "    </tr>\n",
              "  </thead>\n",
              "  <tbody>\n",
              "    <tr>\n",
              "      <th>0</th>\n",
              "      <td>2010-07-17</td>\n",
              "      <td>0.0500</td>\n",
              "      <td>0.0500</td>\n",
              "      <td>0.0500</td>\n",
              "      <td>0.0500</td>\n",
              "      <td>0.0</td>\n",
              "      <td>170803.1525</td>\n",
              "      <td>17</td>\n",
              "      <td>7</td>\n",
              "      <td>2010</td>\n",
              "      <td>0</td>\n",
              "      <td>0.0</td>\n",
              "      <td>0.0</td>\n",
              "    </tr>\n",
              "    <tr>\n",
              "      <th>1</th>\n",
              "      <td>2010-07-18</td>\n",
              "      <td>0.0858</td>\n",
              "      <td>0.0858</td>\n",
              "      <td>0.0858</td>\n",
              "      <td>0.0858</td>\n",
              "      <td>0.0</td>\n",
              "      <td>294746.5950</td>\n",
              "      <td>18</td>\n",
              "      <td>7</td>\n",
              "      <td>2010</td>\n",
              "      <td>0</td>\n",
              "      <td>0.0</td>\n",
              "      <td>0.0</td>\n",
              "    </tr>\n",
              "    <tr>\n",
              "      <th>2</th>\n",
              "      <td>2010-07-19</td>\n",
              "      <td>0.0808</td>\n",
              "      <td>0.0808</td>\n",
              "      <td>0.0808</td>\n",
              "      <td>0.0808</td>\n",
              "      <td>0.0</td>\n",
              "      <td>277570.2200</td>\n",
              "      <td>19</td>\n",
              "      <td>7</td>\n",
              "      <td>2010</td>\n",
              "      <td>0</td>\n",
              "      <td>0.0</td>\n",
              "      <td>0.0</td>\n",
              "    </tr>\n",
              "    <tr>\n",
              "      <th>3</th>\n",
              "      <td>2010-07-20</td>\n",
              "      <td>0.0747</td>\n",
              "      <td>0.0747</td>\n",
              "      <td>0.0747</td>\n",
              "      <td>0.0747</td>\n",
              "      <td>0.0</td>\n",
              "      <td>256710.1785</td>\n",
              "      <td>20</td>\n",
              "      <td>7</td>\n",
              "      <td>2010</td>\n",
              "      <td>0</td>\n",
              "      <td>0.0</td>\n",
              "      <td>0.0</td>\n",
              "    </tr>\n",
              "    <tr>\n",
              "      <th>4</th>\n",
              "      <td>2010-07-21</td>\n",
              "      <td>0.0792</td>\n",
              "      <td>0.0792</td>\n",
              "      <td>0.0792</td>\n",
              "      <td>0.0792</td>\n",
              "      <td>0.0</td>\n",
              "      <td>274308.3750</td>\n",
              "      <td>21</td>\n",
              "      <td>7</td>\n",
              "      <td>2010</td>\n",
              "      <td>0</td>\n",
              "      <td>0.0</td>\n",
              "      <td>0.0</td>\n",
              "    </tr>\n",
              "  </tbody>\n",
              "</table>\n",
              "</div>\n",
              "    <div class=\"colab-df-buttons\">\n",
              "\n",
              "  <div class=\"colab-df-container\">\n",
              "    <button class=\"colab-df-convert\" onclick=\"convertToInteractive('df-cf5e9906-95b2-40d5-ba88-d567f29f69e6')\"\n",
              "            title=\"Convert this dataframe to an interactive table.\"\n",
              "            style=\"display:none;\">\n",
              "\n",
              "  <svg xmlns=\"http://www.w3.org/2000/svg\" height=\"24px\" viewBox=\"0 -960 960 960\">\n",
              "    <path d=\"M120-120v-720h720v720H120Zm60-500h600v-160H180v160Zm220 220h160v-160H400v160Zm0 220h160v-160H400v160ZM180-400h160v-160H180v160Zm440 0h160v-160H620v160ZM180-180h160v-160H180v160Zm440 0h160v-160H620v160Z\"/>\n",
              "  </svg>\n",
              "    </button>\n",
              "\n",
              "  <style>\n",
              "    .colab-df-container {\n",
              "      display:flex;\n",
              "      gap: 12px;\n",
              "    }\n",
              "\n",
              "    .colab-df-convert {\n",
              "      background-color: #E8F0FE;\n",
              "      border: none;\n",
              "      border-radius: 50%;\n",
              "      cursor: pointer;\n",
              "      display: none;\n",
              "      fill: #1967D2;\n",
              "      height: 32px;\n",
              "      padding: 0 0 0 0;\n",
              "      width: 32px;\n",
              "    }\n",
              "\n",
              "    .colab-df-convert:hover {\n",
              "      background-color: #E2EBFA;\n",
              "      box-shadow: 0px 1px 2px rgba(60, 64, 67, 0.3), 0px 1px 3px 1px rgba(60, 64, 67, 0.15);\n",
              "      fill: #174EA6;\n",
              "    }\n",
              "\n",
              "    .colab-df-buttons div {\n",
              "      margin-bottom: 4px;\n",
              "    }\n",
              "\n",
              "    [theme=dark] .colab-df-convert {\n",
              "      background-color: #3B4455;\n",
              "      fill: #D2E3FC;\n",
              "    }\n",
              "\n",
              "    [theme=dark] .colab-df-convert:hover {\n",
              "      background-color: #434B5C;\n",
              "      box-shadow: 0px 1px 3px 1px rgba(0, 0, 0, 0.15);\n",
              "      filter: drop-shadow(0px 1px 2px rgba(0, 0, 0, 0.3));\n",
              "      fill: #FFFFFF;\n",
              "    }\n",
              "  </style>\n",
              "\n",
              "    <script>\n",
              "      const buttonEl =\n",
              "        document.querySelector('#df-cf5e9906-95b2-40d5-ba88-d567f29f69e6 button.colab-df-convert');\n",
              "      buttonEl.style.display =\n",
              "        google.colab.kernel.accessAllowed ? 'block' : 'none';\n",
              "\n",
              "      async function convertToInteractive(key) {\n",
              "        const element = document.querySelector('#df-cf5e9906-95b2-40d5-ba88-d567f29f69e6');\n",
              "        const dataTable =\n",
              "          await google.colab.kernel.invokeFunction('convertToInteractive',\n",
              "                                                    [key], {});\n",
              "        if (!dataTable) return;\n",
              "\n",
              "        const docLinkHtml = 'Like what you see? Visit the ' +\n",
              "          '<a target=\"_blank\" href=https://colab.research.google.com/notebooks/data_table.ipynb>data table notebook</a>'\n",
              "          + ' to learn more about interactive tables.';\n",
              "        element.innerHTML = '';\n",
              "        dataTable['output_type'] = 'display_data';\n",
              "        await google.colab.output.renderOutput(dataTable, element);\n",
              "        const docLink = document.createElement('div');\n",
              "        docLink.innerHTML = docLinkHtml;\n",
              "        element.appendChild(docLink);\n",
              "      }\n",
              "    </script>\n",
              "  </div>\n",
              "\n",
              "\n",
              "<div id=\"df-7e0c29d6-bcda-4748-90be-ba5b6efb0da2\">\n",
              "  <button class=\"colab-df-quickchart\" onclick=\"quickchart('df-7e0c29d6-bcda-4748-90be-ba5b6efb0da2')\"\n",
              "            title=\"Suggest charts\"\n",
              "            style=\"display:none;\">\n",
              "\n",
              "<svg xmlns=\"http://www.w3.org/2000/svg\" height=\"24px\"viewBox=\"0 0 24 24\"\n",
              "     width=\"24px\">\n",
              "    <g>\n",
              "        <path d=\"M19 3H5c-1.1 0-2 .9-2 2v14c0 1.1.9 2 2 2h14c1.1 0 2-.9 2-2V5c0-1.1-.9-2-2-2zM9 17H7v-7h2v7zm4 0h-2V7h2v10zm4 0h-2v-4h2v4z\"/>\n",
              "    </g>\n",
              "</svg>\n",
              "  </button>\n",
              "\n",
              "<style>\n",
              "  .colab-df-quickchart {\n",
              "      --bg-color: #E8F0FE;\n",
              "      --fill-color: #1967D2;\n",
              "      --hover-bg-color: #E2EBFA;\n",
              "      --hover-fill-color: #174EA6;\n",
              "      --disabled-fill-color: #AAA;\n",
              "      --disabled-bg-color: #DDD;\n",
              "  }\n",
              "\n",
              "  [theme=dark] .colab-df-quickchart {\n",
              "      --bg-color: #3B4455;\n",
              "      --fill-color: #D2E3FC;\n",
              "      --hover-bg-color: #434B5C;\n",
              "      --hover-fill-color: #FFFFFF;\n",
              "      --disabled-bg-color: #3B4455;\n",
              "      --disabled-fill-color: #666;\n",
              "  }\n",
              "\n",
              "  .colab-df-quickchart {\n",
              "    background-color: var(--bg-color);\n",
              "    border: none;\n",
              "    border-radius: 50%;\n",
              "    cursor: pointer;\n",
              "    display: none;\n",
              "    fill: var(--fill-color);\n",
              "    height: 32px;\n",
              "    padding: 0;\n",
              "    width: 32px;\n",
              "  }\n",
              "\n",
              "  .colab-df-quickchart:hover {\n",
              "    background-color: var(--hover-bg-color);\n",
              "    box-shadow: 0 1px 2px rgba(60, 64, 67, 0.3), 0 1px 3px 1px rgba(60, 64, 67, 0.15);\n",
              "    fill: var(--button-hover-fill-color);\n",
              "  }\n",
              "\n",
              "  .colab-df-quickchart-complete:disabled,\n",
              "  .colab-df-quickchart-complete:disabled:hover {\n",
              "    background-color: var(--disabled-bg-color);\n",
              "    fill: var(--disabled-fill-color);\n",
              "    box-shadow: none;\n",
              "  }\n",
              "\n",
              "  .colab-df-spinner {\n",
              "    border: 2px solid var(--fill-color);\n",
              "    border-color: transparent;\n",
              "    border-bottom-color: var(--fill-color);\n",
              "    animation:\n",
              "      spin 1s steps(1) infinite;\n",
              "  }\n",
              "\n",
              "  @keyframes spin {\n",
              "    0% {\n",
              "      border-color: transparent;\n",
              "      border-bottom-color: var(--fill-color);\n",
              "      border-left-color: var(--fill-color);\n",
              "    }\n",
              "    20% {\n",
              "      border-color: transparent;\n",
              "      border-left-color: var(--fill-color);\n",
              "      border-top-color: var(--fill-color);\n",
              "    }\n",
              "    30% {\n",
              "      border-color: transparent;\n",
              "      border-left-color: var(--fill-color);\n",
              "      border-top-color: var(--fill-color);\n",
              "      border-right-color: var(--fill-color);\n",
              "    }\n",
              "    40% {\n",
              "      border-color: transparent;\n",
              "      border-right-color: var(--fill-color);\n",
              "      border-top-color: var(--fill-color);\n",
              "    }\n",
              "    60% {\n",
              "      border-color: transparent;\n",
              "      border-right-color: var(--fill-color);\n",
              "    }\n",
              "    80% {\n",
              "      border-color: transparent;\n",
              "      border-right-color: var(--fill-color);\n",
              "      border-bottom-color: var(--fill-color);\n",
              "    }\n",
              "    90% {\n",
              "      border-color: transparent;\n",
              "      border-bottom-color: var(--fill-color);\n",
              "    }\n",
              "  }\n",
              "</style>\n",
              "\n",
              "  <script>\n",
              "    async function quickchart(key) {\n",
              "      const quickchartButtonEl =\n",
              "        document.querySelector('#' + key + ' button');\n",
              "      quickchartButtonEl.disabled = true;  // To prevent multiple clicks.\n",
              "      quickchartButtonEl.classList.add('colab-df-spinner');\n",
              "      try {\n",
              "        const charts = await google.colab.kernel.invokeFunction(\n",
              "            'suggestCharts', [key], {});\n",
              "      } catch (error) {\n",
              "        console.error('Error during call to suggestCharts:', error);\n",
              "      }\n",
              "      quickchartButtonEl.classList.remove('colab-df-spinner');\n",
              "      quickchartButtonEl.classList.add('colab-df-quickchart-complete');\n",
              "    }\n",
              "    (() => {\n",
              "      let quickchartButtonEl =\n",
              "        document.querySelector('#df-7e0c29d6-bcda-4748-90be-ba5b6efb0da2 button');\n",
              "      quickchartButtonEl.style.display =\n",
              "        google.colab.kernel.accessAllowed ? 'block' : 'none';\n",
              "    })();\n",
              "  </script>\n",
              "</div>\n",
              "\n",
              "    </div>\n",
              "  </div>\n"
            ],
            "application/vnd.google.colaboratory.intrinsic+json": {
              "type": "dataframe",
              "variable_name": "df",
              "summary": "{\n  \"name\": \"df\",\n  \"rows\": 5098,\n  \"fields\": [\n    {\n      \"column\": \"Date\",\n      \"properties\": {\n        \"dtype\": \"date\",\n        \"min\": \"2010-07-17 00:00:00\",\n        \"max\": \"2024-06-30 00:00:00\",\n        \"num_unique_values\": 5098,\n        \"samples\": [\n          \"2013-04-08 00:00:00\",\n          \"2014-02-01 00:00:00\",\n          \"2012-11-11 00:00:00\"\n        ],\n        \"semantic_type\": \"\",\n        \"description\": \"\"\n      }\n    },\n    {\n      \"column\": \"Open\",\n      \"properties\": {\n        \"dtype\": \"number\",\n        \"std\": 17458.41652799747,\n        \"min\": 0.05,\n        \"max\": 73082.35,\n        \"num_unique_values\": 4988,\n        \"samples\": [\n          332.906,\n          178.103,\n          235.344\n        ],\n        \"semantic_type\": \"\",\n        \"description\": \"\"\n      }\n    },\n    {\n      \"column\": \"High\",\n      \"properties\": {\n        \"dtype\": \"number\",\n        \"std\": 17850.089618890157,\n        \"min\": 0.05,\n        \"max\": 73628.43,\n        \"num_unique_values\": 4985,\n        \"samples\": [\n          383.026,\n          8398.980741,\n          7.1136\n        ],\n        \"semantic_type\": \"\",\n        \"description\": \"\"\n      }\n    },\n    {\n      \"column\": \"Low\",\n      \"properties\": {\n        \"dtype\": \"number\",\n        \"std\": 17042.824296981835,\n        \"min\": 0.05,\n        \"max\": 71333.36,\n        \"num_unique_values\": 4987,\n        \"samples\": [\n          46459.80561,\n          194.875,\n          238.691\n        ],\n        \"semantic_type\": \"\",\n        \"description\": \"\"\n      }\n    },\n    {\n      \"column\": \"Close\",\n      \"properties\": {\n        \"dtype\": \"number\",\n        \"std\": 17475.037755703903,\n        \"min\": 0.05,\n        \"max\": 73087.95,\n        \"num_unique_values\": 4981,\n        \"samples\": [\n          873.26,\n          18162.12347,\n          129.22\n        ],\n        \"semantic_type\": \"\",\n        \"description\": \"\"\n      }\n    },\n    {\n      \"column\": \"Volume\",\n      \"properties\": {\n        \"dtype\": \"number\",\n        \"std\": 33758464477.63993,\n        \"min\": 0.0,\n        \"max\": 212000000000.0,\n        \"num_unique_values\": 3703,\n        \"samples\": [\n          3774750025.0,\n          59130067822.0,\n          14930223069.0\n        ],\n        \"semantic_type\": \"\",\n        \"description\": \"\"\n      }\n    },\n    {\n      \"column\": \"Market Cap\",\n      \"properties\": {\n        \"dtype\": \"number\",\n        \"std\": 336000753243.8287,\n        \"min\": 170803.1525,\n        \"max\": 1430000000000.0,\n        \"num_unique_values\": 3533,\n        \"samples\": [\n          95117505.14,\n          5755037104.0,\n          9139178953.0\n        ],\n        \"semantic_type\": \"\",\n        \"description\": \"\"\n      }\n    },\n    {\n      \"column\": \"Day\",\n      \"properties\": {\n        \"dtype\": \"int32\",\n        \"num_unique_values\": 31,\n        \"samples\": [\n          13,\n          1,\n          9\n        ],\n        \"semantic_type\": \"\",\n        \"description\": \"\"\n      }\n    },\n    {\n      \"column\": \"Month\",\n      \"properties\": {\n        \"dtype\": \"int32\",\n        \"num_unique_values\": 12,\n        \"samples\": [\n          5,\n          4,\n          7\n        ],\n        \"semantic_type\": \"\",\n        \"description\": \"\"\n      }\n    },\n    {\n      \"column\": \"Year\",\n      \"properties\": {\n        \"dtype\": \"int32\",\n        \"num_unique_values\": 15,\n        \"samples\": [\n          2019,\n          2021,\n          2010\n        ],\n        \"semantic_type\": \"\",\n        \"description\": \"\"\n      }\n    },\n    {\n      \"column\": \"is_quarter_end\",\n      \"properties\": {\n        \"dtype\": \"number\",\n        \"std\": 0,\n        \"min\": 0,\n        \"max\": 1,\n        \"num_unique_values\": 2,\n        \"samples\": [\n          1,\n          0\n        ],\n        \"semantic_type\": \"\",\n        \"description\": \"\"\n      }\n    },\n    {\n      \"column\": \"open-close\",\n      \"properties\": {\n        \"dtype\": \"number\",\n        \"std\": 712.7753105728649,\n        \"min\": -7368.3794599999965,\n        \"max\": 6195.416869999994,\n        \"num_unique_values\": 4061,\n        \"samples\": [\n          1685.9133799999981,\n          425.0371130000003\n        ],\n        \"semantic_type\": \"\",\n        \"description\": \"\"\n      }\n    },\n    {\n      \"column\": \"low-high\",\n      \"properties\": {\n        \"dtype\": \"number\",\n        \"std\": 1039.7441299860427,\n        \"min\": -11999.886410000003,\n        \"max\": 0.0,\n        \"num_unique_values\": 4059,\n        \"samples\": [\n          -1908.8269600000021,\n          -269.19541299999946\n        ],\n        \"semantic_type\": \"\",\n        \"description\": \"\"\n      }\n    }\n  ]\n}"
            }
          },
          "metadata": {},
          "execution_count": 13
        }
      ]
    },
    {
      "cell_type": "markdown",
      "source": [
        "To check whether any newly added features are highy correlated"
      ],
      "metadata": {
        "id": "O4JJl1xs_3SO"
      }
    },
    {
      "cell_type": "code",
      "source": [
        "plt.figure(figsize=(10, 10))\n",
        "sns.heatmap(df.corr() > 0.9, annot=True, cbar=False)\n",
        "plt.show()"
      ],
      "metadata": {
        "id": "SsZeHp8D_xTh",
        "colab": {
          "base_uri": "https://localhost:8080/",
          "height": 919
        },
        "outputId": "d5bd9c0e-1039-43c1-8551-255c5af19eec"
      },
      "execution_count": 14,
      "outputs": [
        {
          "output_type": "display_data",
          "data": {
            "text/plain": [
              "<Figure size 1000x1000 with 1 Axes>"
            ],
            "image/png": "[encoded data removed]"
          },
          "metadata": {}
        }
      ]
    },
    {
      "cell_type": "markdown",
      "source": [
        "Training the model"
      ],
      "metadata": {
        "id": "6JxvRjPNAFcd"
      }
    },
    {
      "cell_type": "code",
      "source": [
        "features = df[['Open', 'High', 'Low', 'Volume', 'Market Cap', 'is_quarter_end', 'open-close', 'low-high', 'Day', 'Month', 'Year']]\n",
        "target = df['Close']\n",
        "\n",
        "scaler = StandardScaler()\n",
        "features = scaler.fit_transform(features)\n",
        "\n",
        "X_train, X_test, Y_train, Y_test = train_test_split(\n",
        "\tfeatures, target, test_size=0.2, random_state=2022)\n",
        "print(X_train.shape, X_test.shape)"
      ],
      "metadata": {
        "id": "Q51Y7BSGAADP",
        "colab": {
          "base_uri": "https://localhost:8080/"
        },
        "outputId": "9b0bedd1-b251-4757-a950-b445d0c17efe"
      },
      "execution_count": 15,
      "outputs": [
        {
          "output_type": "stream",
          "name": "stdout",
          "text": [
            "(4078, 11) (1020, 11)\n"
          ]
        }
      ]
    },
    {
      "cell_type": "markdown",
      "source": [
        "Linear Regression"
      ],
      "metadata": {
        "id": "ImiV6DYfPkAi"
      }
    },
    {
      "cell_type": "code",
      "source": [
        "model = LinearRegression()\n",
        "model.fit(X_train, Y_train)\n",
        "train_predictions = model.predict(X_train)\n",
        "test_predictions = model.predict(X_test)"
      ],
      "metadata": {
        "id": "PWeO4XkXAJFd"
      },
      "execution_count": 16,
      "outputs": []
    },
    {
      "cell_type": "code",
      "source": [
        "from sklearn.model_selection import ShuffleSplit #ShuffleSplit will randomise the Samples\n",
        "from sklearn.model_selection import cross_val_score\n",
        "\n",
        "cv = ShuffleSplit(n_splits=5, test_size=0.2, random_state=0)\n",
        "\n",
        "cross_val_score(LinearRegression(), features, target, cv=cv)"
      ],
      "metadata": {
        "id": "HbbqlgpyOrz5",
        "colab": {
          "base_uri": "https://localhost:8080/"
        },
        "outputId": "4b3ee751-5b80-4810-fd5c-506e10e7d027"
      },
      "execution_count": 17,
      "outputs": [
        {
          "output_type": "execute_result",
          "data": {
            "text/plain": [
              "array([1., 1., 1., 1., 1.])"
            ]
          },
          "metadata": {},
          "execution_count": 17
        }
      ]
    },
    {
      "cell_type": "code",
      "source": [
        "# Root Mean Squared Error\n",
        "print('Training RMSE : ', np.sqrt(metrics.mean_squared_error(Y_train, train_predictions)))\n",
        "print('Test RMSE : ', np.sqrt(metrics.mean_squared_error(Y_test, test_predictions)))"
      ],
      "metadata": {
        "id": "0frlbl_DANs_",
        "colab": {
          "base_uri": "https://localhost:8080/"
        },
        "outputId": "b3e7c80c-0c49-4ae8-b408-f7e9f60c173d"
      },
      "execution_count": 18,
      "outputs": [
        {
          "output_type": "stream",
          "name": "stdout",
          "text": [
            "Training RMSE :  1.3423596962361826e-11\n",
            "Test RMSE :  1.3866518598917293e-11\n"
          ]
        }
      ]
    },
    {
      "cell_type": "code",
      "source": [
        "model.score(X_test, Y_test)"
      ],
      "metadata": {
        "id": "EolxYEbuRPhV",
        "colab": {
          "base_uri": "https://localhost:8080/"
        },
        "outputId": "9b80dc83-196c-4a04-dee7-054a54557264"
      },
      "execution_count": 19,
      "outputs": [
        {
          "output_type": "execute_result",
          "data": {
            "text/plain": [
              "1.0"
            ]
          },
          "metadata": {},
          "execution_count": 19
        }
      ]
    },
    {
      "cell_type": "markdown",
      "source": [
        "Lasso"
      ],
      "metadata": {
        "id": "0nQFkDcSPxB3"
      }
    },
    {
      "cell_type": "code",
      "source": [
        "model_lasso = Lasso(alpha=0.01, max_iter=10000)\n",
        "model_lasso.fit(X_train, Y_train)\n",
        "train_predictions = model_lasso.predict(X_train)\n",
        "test_predictions = model_lasso.predict(X_test)"
      ],
      "metadata": {
        "id": "fgNHW4jCPzPH"
      },
      "execution_count": 20,
      "outputs": []
    },
    {
      "cell_type": "code",
      "source": [
        "# Root Mean Squared Error\n",
        "print('Training RMSE : ', np.sqrt(metrics.mean_squared_error(Y_train, train_predictions)))\n",
        "print('Test RMSE : ', np.sqrt(metrics.mean_squared_error(Y_test, test_predictions)))"
      ],
      "metadata": {
        "id": "WtdvhyJzQCdm",
        "colab": {
          "base_uri": "https://localhost:8080/"
        },
        "outputId": "586be1dc-4405-4cab-d3cd-a06dbfbc9f31"
      },
      "execution_count": 21,
      "outputs": [
        {
          "output_type": "stream",
          "name": "stdout",
          "text": [
            "Training RMSE :  2.417239549223216\n",
            "Test RMSE :  2.1796354056799276\n"
          ]
        }
      ]
    },
    {
      "cell_type": "code",
      "source": [
        "model_lasso.score(X_test, Y_test)"
      ],
      "metadata": {
        "id": "vgj-EKqqRYSj",
        "colab": {
          "base_uri": "https://localhost:8080/"
        },
        "outputId": "b4e2c5fc-1e53-4294-8fc6-f6a275ba1d48"
      },
      "execution_count": 22,
      "outputs": [
        {
          "output_type": "execute_result",
          "data": {
            "text/plain": [
              "0.9999999856581603"
            ]
          },
          "metadata": {},
          "execution_count": 22
        }
      ]
    },
    {
      "cell_type": "markdown",
      "source": [
        "Decision Tree"
      ],
      "metadata": {
        "id": "OVEakMyiQPoe"
      }
    },
    {
      "cell_type": "code",
      "source": [
        "model_DT = DecisionTreeRegressor()\n",
        "model_DT.fit(X_train, Y_train)\n",
        "train_predictions = model_DT.predict(X_train)\n",
        "test_predictions = model_DT.predict(X_test)"
      ],
      "metadata": {
        "id": "lAVhQPcaQIwF"
      },
      "execution_count": 23,
      "outputs": []
    },
    {
      "cell_type": "code",
      "source": [
        "# Root Mean Squared Error\n",
        "print('Training RMSE : ', np.sqrt(metrics.mean_squared_error(Y_train, train_predictions)))\n",
        "print('Test RMSE : ', np.sqrt(metrics.mean_squared_error(Y_test, test_predictions)))"
      ],
      "metadata": {
        "id": "w385WCkXResN",
        "colab": {
          "base_uri": "https://localhost:8080/"
        },
        "outputId": "224b0056-c3fa-49c2-a776-bdbe70baba61"
      },
      "execution_count": 24,
      "outputs": [
        {
          "output_type": "stream",
          "name": "stdout",
          "text": [
            "Training RMSE :  0.0\n",
            "Test RMSE :  346.3283472348188\n"
          ]
        }
      ]
    },
    {
      "cell_type": "code",
      "source": [
        "model_DT.score(X_test, Y_test)"
      ],
      "metadata": {
        "id": "5_MTz9wXRmH8",
        "colab": {
          "base_uri": "https://localhost:8080/"
        },
        "outputId": "103a2413-d0b6-4f51-99e0-e6f1793d874e"
      },
      "execution_count": 25,
      "outputs": [
        {
          "output_type": "execute_result",
          "data": {
            "text/plain": [
              "0.9996379127446366"
            ]
          },
          "metadata": {},
          "execution_count": 25
        }
      ]
    },
    {
      "cell_type": "markdown",
      "source": [
        "Random Forest"
      ],
      "metadata": {
        "id": "17FC55hatne6"
      }
    },
    {
      "cell_type": "code",
      "source": [
        "model_RF = RandomForestRegressor()\n",
        "model_RF.fit(X_train, Y_train)\n",
        "train_predictions = model_RF.predict(X_train)\n",
        "test_predictions = model_RF.predict(X_test)"
      ],
      "metadata": {
        "id": "vQqIhhG-tqed"
      },
      "execution_count": 26,
      "outputs": []
    },
    {
      "cell_type": "code",
      "source": [
        "# Root Mean Squared Error\n",
        "print('Training RMSE : ', np.sqrt(metrics.mean_squared_error(Y_train, train_predictions)))\n",
        "print('Test RMSE : ', np.sqrt(metrics.mean_squared_error(Y_test, test_predictions)))"
      ],
      "metadata": {
        "colab": {
          "base_uri": "https://localhost:8080/"
        },
        "id": "C-kC9s-guj_D",
        "outputId": "f758c927-2947-4fc0-995b-970fa3833851"
      },
      "execution_count": 27,
      "outputs": [
        {
          "output_type": "stream",
          "name": "stdout",
          "text": [
            "Training RMSE :  113.15354344133145\n",
            "Test RMSE :  280.1098213161532\n"
          ]
        }
      ]
    },
    {
      "cell_type": "code",
      "source": [
        "model_RF.score(X_test, Y_test)"
      ],
      "metadata": {
        "id": "puOQNdVguBWk",
        "colab": {
          "base_uri": "https://localhost:8080/"
        },
        "outputId": "1ca6427e-ef31-467e-f715-0ccea468f355"
      },
      "execution_count": 28,
      "outputs": [
        {
          "output_type": "execute_result",
          "data": {
            "text/plain": [
              "0.9997631388512492"
            ]
          },
          "metadata": {},
          "execution_count": 28
        }
      ]
    },
    {
      "cell_type": "markdown",
      "source": [
        "# Function to predict Bitcoin Price"
      ],
      "metadata": {
        "id": "JSh92ZKfsU2y"
      }
    },
    {
      "cell_type": "markdown",
      "source": [
        "Function to get Weighted Averages of price wrt dates"
      ],
      "metadata": {
        "id": "XunKwphFyIvO"
      }
    },
    {
      "cell_type": "code",
      "source": [
        "from datetime import datetime\n",
        "\n",
        "def calculate_weighted_average(df, date, feature_name):\n",
        "    # Convert 'Date' column to datetime\n",
        "    df['Date'] = pd.to_datetime(df['Date'])\n",
        "\n",
        "    # Calculate the difference in days between the given date and historical dates\n",
        "    df['Date_Diff'] = (date - df['Date']).abs().dt.days\n",
        "\n",
        "    # Calculate weights as the inverse of date difference (closer dates get higher weight)\n",
        "    df['Weight'] = 1 / ((df['Date_Diff'] + 1) ** 5)  # Adding 1 to avoid division by zero\n",
        "\n",
        "    # Calculate the weighted average for the feature\n",
        "    weighted_avg = np.sum(df[feature_name] * df['Weight']) / np.sum(df['Weight'])\n",
        "\n",
        "    return weighted_avg"
      ],
      "metadata": {
        "id": "8pHbMeRkLIac"
      },
      "execution_count": 29,
      "outputs": []
    },
    {
      "cell_type": "markdown",
      "source": [
        "Price Predictor Function"
      ],
      "metadata": {
        "id": "tYgh9ks8yP_f"
      }
    },
    {
      "cell_type": "code",
      "source": [
        "def PredictedPrice(Day, Month, Year):\n",
        "    # Convert the input date\n",
        "    input_date = pd.to_datetime(f'{Year}-{Month}-{Day}')\n",
        "\n",
        "    # Calculate weighted averages for each feature\n",
        "    open_value = calculate_weighted_average(df.copy(), input_date, 'Open') # Create a copy of df for each feature\n",
        "    close_value = calculate_weighted_average(df.copy(), input_date, 'Close')\n",
        "    high_value = calculate_weighted_average(df.copy(), input_date, 'High')\n",
        "    low_value = calculate_weighted_average(df.copy(), input_date, 'Low')\n",
        "    volume_value = calculate_weighted_average(df.copy(), input_date, 'Volume')\n",
        "    market_cap_value = calculate_weighted_average(df.copy(), input_date, 'Market Cap')\n",
        "\n",
        "    # Calculate additional features\n",
        "    is_quarter_end = 1 if Month % 3 == 0 else 0\n",
        "    open_close_diff = open_value - close_value\n",
        "    low_high_diff = low_value - high_value\n",
        "\n",
        "    # Create input data\n",
        "    input_data = pd.DataFrame({\n",
        "        'Open': [open_value],\n",
        "        'High': [high_value],\n",
        "        'Low': [low_value],\n",
        "        'Volume': [volume_value],\n",
        "        'Market Cap': [market_cap_value],\n",
        "        'is_quarter_end': [is_quarter_end],\n",
        "        'open-close': [open_close_diff],\n",
        "        'low-high': [low_high_diff],\n",
        "        'Day': [Day],\n",
        "        'Month': [Month],\n",
        "        'Year': [Year]\n",
        "    })\n",
        "\n",
        "    # Scale the input data\n",
        "    input_data_scaled = scaler.transform(input_data)\n",
        "\n",
        "    # Predict using all the models\n",
        "    prediction_lr = model.predict(input_data_scaled)\n",
        "    prediction_lasso = model_lasso.predict(input_data_scaled)\n",
        "    prediction_dt = model_DT.predict(input_data_scaled)\n",
        "    prediction_rf = model_RF.predict(input_data_scaled)\n",
        "\n",
        "    # Calculate the average prediction\n",
        "    average_prediction = (prediction_lr + prediction_lasso + prediction_dt + prediction_rf) / 4\n",
        "    #print(\"Linear Regression Prediction:\", prediction_lr)\n",
        "    #print(\"Lasso Regression Prediction:\", prediction_lasso)\n",
        "    #print(\"Decision Tree Prediction:\", prediction_dt)\n",
        "    #print(\"Random Forest Prediction:\", prediction_rf)\n",
        "    return average_prediction[0]  # Return the average prediction"
      ],
      "metadata": {
        "id": "19o5Mzogvyo5"
      },
      "execution_count": 31,
      "outputs": []
    },
    {
      "cell_type": "code",
      "source": [
        "# Example usage:\n",
        "predicted_price = PredictedPrice(4, 8, 2024)\n",
        "print(f\"Predicted Bitcoin Price: {predicted_price}\")"
      ],
      "metadata": {
        "colab": {
          "base_uri": "https://localhost:8080/"
        },
        "id": "86Le5KF9yapD",
        "outputId": "91ca98d6-8eb1-4abe-b362-ec8bd5eff34b"
      },
      "execution_count": 35,
      "outputs": [
        {
          "output_type": "stream",
          "name": "stdout",
          "text": [
            "Predicted Bitcoin Price: 63800.83202383627\n"
          ]
        }
      ]
    },
    {
      "cell_type": "code",
      "source": [],
      "metadata": {
        "id": "fb3N_DyHydV8"
      },
      "execution_count": null,
      "outputs": []
    }
  ]
}